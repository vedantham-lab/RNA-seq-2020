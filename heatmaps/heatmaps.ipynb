{
 "cells": [
  {
   "cell_type": "markdown",
   "metadata": {},
   "source": [
    "install.packages(\"pheatmap\")"
   ]
  },
  {
   "cell_type": "markdown",
   "metadata": {},
   "source": [
    "install.packages(\"corrplot\")\n",
    "install.packages(\"ggplot2\")\n",
    "install.packages(\"reshape2\")\n",
    "install.packages(\"tidyverse\")\n",
    "install.packages(\"readxl\")"
   ]
  },
  {
   "cell_type": "code",
   "execution_count": 1,
   "metadata": {},
   "outputs": [
    {
     "name": "stderr",
     "output_type": "stream",
     "text": [
      "Warning message:\n",
      "“package ‘pheatmap’ was built under R version 4.0.2”\n",
      "Warning message:\n",
      "“package ‘corrplot’ was built under R version 4.0.2”\n",
      "corrplot 0.84 loaded\n",
      "\n",
      "Warning message:\n",
      "“package ‘ggplot2’ was built under R version 4.0.2”\n",
      "Warning message:\n",
      "“package ‘readxl’ was built under R version 4.0.2”\n",
      "Warning message:\n",
      "“package ‘tidyverse’ was built under R version 4.0.2”\n",
      "── \u001b[1mAttaching packages\u001b[22m ─────────────────────────────────────── tidyverse 1.3.0 ──\n",
      "\n",
      "\u001b[32m✔\u001b[39m \u001b[34mtibble \u001b[39m 3.0.1     \u001b[32m✔\u001b[39m \u001b[34mdplyr  \u001b[39m 1.0.0\n",
      "\u001b[32m✔\u001b[39m \u001b[34mtidyr  \u001b[39m 1.1.0     \u001b[32m✔\u001b[39m \u001b[34mstringr\u001b[39m 1.4.0\n",
      "\u001b[32m✔\u001b[39m \u001b[34mreadr  \u001b[39m 1.3.1     \u001b[32m✔\u001b[39m \u001b[34mforcats\u001b[39m 0.5.0\n",
      "\u001b[32m✔\u001b[39m \u001b[34mpurrr  \u001b[39m 0.3.4     \n",
      "\n",
      "Warning message:\n",
      "“package ‘tidyr’ was built under R version 4.0.2”\n",
      "Warning message:\n",
      "“package ‘readr’ was built under R version 4.0.2”\n",
      "Warning message:\n",
      "“package ‘dplyr’ was built under R version 4.0.2”\n",
      "Warning message:\n",
      "“package ‘forcats’ was built under R version 4.0.2”\n",
      "── \u001b[1mConflicts\u001b[22m ────────────────────────────────────────── tidyverse_conflicts() ──\n",
      "\u001b[31m✖\u001b[39m \u001b[34mdplyr\u001b[39m::\u001b[32mfilter()\u001b[39m masks \u001b[34mstats\u001b[39m::filter()\n",
      "\u001b[31m✖\u001b[39m \u001b[34mdplyr\u001b[39m::\u001b[32mlag()\u001b[39m    masks \u001b[34mstats\u001b[39m::lag()\n",
      "\n",
      "Warning message:\n",
      "“package ‘reshape2’ was built under R version 4.0.2”\n",
      "\n",
      "Attaching package: ‘reshape2’\n",
      "\n",
      "\n",
      "The following object is masked from ‘package:tidyr’:\n",
      "\n",
      "    smiths\n",
      "\n",
      "\n"
     ]
    }
   ],
   "source": [
    "library(pheatmap)\n",
    "library(corrplot)\n",
    "library(ggplot2)\n",
    "library(readxl)\n",
    "library(tidyverse)\n",
    "library(reshape2)"
   ]
  },
  {
   "cell_type": "code",
   "execution_count": 2,
   "metadata": {},
   "outputs": [],
   "source": [
    "setwd('/Users/marieshi/VV-3188_results2')"
   ]
  },
  {
   "cell_type": "code",
   "execution_count": 3,
   "metadata": {},
   "outputs": [],
   "source": [
    "norm = read.table(\"normalized_counts.txt\", header=TRUE)"
   ]
  },
  {
   "cell_type": "code",
   "execution_count": 4,
   "metadata": {},
   "outputs": [],
   "source": [
    "DEgenes = read.table(\"DE_ensembl_list.txt\")"
   ]
  },
  {
   "cell_type": "code",
   "execution_count": 5,
   "metadata": {},
   "outputs": [],
   "source": [
    "DEmerge = read.table(\"DEgenes_ensembl_merge.txt\", fill = TRUE, header = TRUE)"
   ]
  },
  {
   "cell_type": "code",
   "execution_count": 6,
   "metadata": {},
   "outputs": [],
   "source": [
    "devdata = read.table(\"Devdata.txt\", header = TRUE)"
   ]
  },
  {
   "cell_type": "code",
   "execution_count": 7,
   "metadata": {},
   "outputs": [
    {
     "data": {
      "text/html": [
       "<table>\n",
       "<caption>A data.frame: 6 × 8</caption>\n",
       "<thead>\n",
       "\t<tr><th></th><th scope=col>Gene_symbol</th><th scope=col>Gene_ENSEMBL</th><th scope=col>Whole_heart_E17.5_Katushka1</th><th scope=col>Whole_heart_E17.5_Katushka2</th><th scope=col>Whole_heart_E17.5_Katushka3</th><th scope=col>SAN_E17.5_Venus1</th><th scope=col>SAN_E17.5_Venus2</th><th scope=col>SAN_E17.5_Venus3</th></tr>\n",
       "\t<tr><th></th><th scope=col>&lt;chr&gt;</th><th scope=col>&lt;chr&gt;</th><th scope=col>&lt;dbl&gt;</th><th scope=col>&lt;dbl&gt;</th><th scope=col>&lt;dbl&gt;</th><th scope=col>&lt;dbl&gt;</th><th scope=col>&lt;dbl&gt;</th><th scope=col>&lt;dbl&gt;</th></tr>\n",
       "</thead>\n",
       "<tbody>\n",
       "\t<tr><th scope=row>1</th><td>Gnai3</td><td>ENSMUSG00000000001</td><td> 682.7594</td><td> 458.9656</td><td> 528.328057</td><td> 880.32434</td><td>  858.941838</td><td> 1516.441200</td></tr>\n",
       "\t<tr><th scope=row>2</th><td>Pbsn </td><td>ENSMUSG00000000003</td><td>   0.0000</td><td>   0.0000</td><td>   0.000000</td><td>   0.00000</td><td>    0.000000</td><td>    2.477036</td></tr>\n",
       "\t<tr><th scope=row>3</th><td>Cdc45</td><td>ENSMUSG00000000028</td><td> 236.9005</td><td> 201.7228</td><td> 170.239041</td><td>  90.70008</td><td>  188.726277</td><td>  188.254706</td></tr>\n",
       "\t<tr><th scope=row>4</th><td>NA   </td><td>ENSMUSG00000000031</td><td>5915.2237</td><td>4698.8450</td><td>6110.994529</td><td>4788.96439</td><td>19746.901290</td><td>16588.212070</td></tr>\n",
       "\t<tr><th scope=row>5</th><td>Scml2</td><td>ENSMUSG00000000037</td><td> 122.7023</td><td> 125.8454</td><td> 174.152582</td><td>  71.49301</td><td>  275.606072</td><td>  108.989567</td></tr>\n",
       "\t<tr><th scope=row>6</th><td>Apoh </td><td>ENSMUSG00000000049</td><td>   0.0000</td><td>   0.0000</td><td>   3.913541</td><td>   0.00000</td><td>    8.760988</td><td>    0.000000</td></tr>\n",
       "</tbody>\n",
       "</table>\n"
      ],
      "text/latex": [
       "A data.frame: 6 × 8\n",
       "\\begin{tabular}{r|llllllll}\n",
       "  & Gene\\_symbol & Gene\\_ENSEMBL & Whole\\_heart\\_E17.5\\_Katushka1 & Whole\\_heart\\_E17.5\\_Katushka2 & Whole\\_heart\\_E17.5\\_Katushka3 & SAN\\_E17.5\\_Venus1 & SAN\\_E17.5\\_Venus2 & SAN\\_E17.5\\_Venus3\\\\\n",
       "  & <chr> & <chr> & <dbl> & <dbl> & <dbl> & <dbl> & <dbl> & <dbl>\\\\\n",
       "\\hline\n",
       "\t1 & Gnai3 & ENSMUSG00000000001 &  682.7594 &  458.9656 &  528.328057 &  880.32434 &   858.941838 &  1516.441200\\\\\n",
       "\t2 & Pbsn  & ENSMUSG00000000003 &    0.0000 &    0.0000 &    0.000000 &    0.00000 &     0.000000 &     2.477036\\\\\n",
       "\t3 & Cdc45 & ENSMUSG00000000028 &  236.9005 &  201.7228 &  170.239041 &   90.70008 &   188.726277 &   188.254706\\\\\n",
       "\t4 & NA    & ENSMUSG00000000031 & 5915.2237 & 4698.8450 & 6110.994529 & 4788.96439 & 19746.901290 & 16588.212070\\\\\n",
       "\t5 & Scml2 & ENSMUSG00000000037 &  122.7023 &  125.8454 &  174.152582 &   71.49301 &   275.606072 &   108.989567\\\\\n",
       "\t6 & Apoh  & ENSMUSG00000000049 &    0.0000 &    0.0000 &    3.913541 &    0.00000 &     8.760988 &     0.000000\\\\\n",
       "\\end{tabular}\n"
      ],
      "text/markdown": [
       "\n",
       "A data.frame: 6 × 8\n",
       "\n",
       "| <!--/--> | Gene_symbol &lt;chr&gt; | Gene_ENSEMBL &lt;chr&gt; | Whole_heart_E17.5_Katushka1 &lt;dbl&gt; | Whole_heart_E17.5_Katushka2 &lt;dbl&gt; | Whole_heart_E17.5_Katushka3 &lt;dbl&gt; | SAN_E17.5_Venus1 &lt;dbl&gt; | SAN_E17.5_Venus2 &lt;dbl&gt; | SAN_E17.5_Venus3 &lt;dbl&gt; |\n",
       "|---|---|---|---|---|---|---|---|---|\n",
       "| 1 | Gnai3 | ENSMUSG00000000001 |  682.7594 |  458.9656 |  528.328057 |  880.32434 |   858.941838 |  1516.441200 |\n",
       "| 2 | Pbsn  | ENSMUSG00000000003 |    0.0000 |    0.0000 |    0.000000 |    0.00000 |     0.000000 |     2.477036 |\n",
       "| 3 | Cdc45 | ENSMUSG00000000028 |  236.9005 |  201.7228 |  170.239041 |   90.70008 |   188.726277 |   188.254706 |\n",
       "| 4 | NA    | ENSMUSG00000000031 | 5915.2237 | 4698.8450 | 6110.994529 | 4788.96439 | 19746.901290 | 16588.212070 |\n",
       "| 5 | Scml2 | ENSMUSG00000000037 |  122.7023 |  125.8454 |  174.152582 |   71.49301 |   275.606072 |   108.989567 |\n",
       "| 6 | Apoh  | ENSMUSG00000000049 |    0.0000 |    0.0000 |    3.913541 |    0.00000 |     8.760988 |     0.000000 |\n",
       "\n"
      ],
      "text/plain": [
       "  Gene_symbol Gene_ENSEMBL       Whole_heart_E17.5_Katushka1\n",
       "1 Gnai3       ENSMUSG00000000001  682.7594                  \n",
       "2 Pbsn        ENSMUSG00000000003    0.0000                  \n",
       "3 Cdc45       ENSMUSG00000000028  236.9005                  \n",
       "4 NA          ENSMUSG00000000031 5915.2237                  \n",
       "5 Scml2       ENSMUSG00000000037  122.7023                  \n",
       "6 Apoh        ENSMUSG00000000049    0.0000                  \n",
       "  Whole_heart_E17.5_Katushka2 Whole_heart_E17.5_Katushka3 SAN_E17.5_Venus1\n",
       "1  458.9656                    528.328057                  880.32434      \n",
       "2    0.0000                      0.000000                    0.00000      \n",
       "3  201.7228                    170.239041                   90.70008      \n",
       "4 4698.8450                   6110.994529                 4788.96439      \n",
       "5  125.8454                    174.152582                   71.49301      \n",
       "6    0.0000                      3.913541                    0.00000      \n",
       "  SAN_E17.5_Venus2 SAN_E17.5_Venus3\n",
       "1   858.941838      1516.441200    \n",
       "2     0.000000         2.477036    \n",
       "3   188.726277       188.254706    \n",
       "4 19746.901290     16588.212070    \n",
       "5   275.606072       108.989567    \n",
       "6     8.760988         0.000000    "
      ]
     },
     "metadata": {},
     "output_type": "display_data"
    }
   ],
   "source": [
    "head(devdata)"
   ]
  },
  {
   "cell_type": "code",
   "execution_count": 8,
   "metadata": {},
   "outputs": [
    {
     "data": {
      "text/html": [
       "<table>\n",
       "<caption>A data.frame: 6 × 1</caption>\n",
       "<thead>\n",
       "\t<tr><th></th><th scope=col>V1</th></tr>\n",
       "\t<tr><th></th><th scope=col>&lt;chr&gt;</th></tr>\n",
       "</thead>\n",
       "<tbody>\n",
       "\t<tr><th scope=row>1</th><td>ENSMUSG00000000031</td></tr>\n",
       "\t<tr><th scope=row>2</th><td>ENSMUSG00000000078</td></tr>\n",
       "\t<tr><th scope=row>3</th><td>ENSMUSG00000000093</td></tr>\n",
       "\t<tr><th scope=row>4</th><td>ENSMUSG00000000142</td></tr>\n",
       "\t<tr><th scope=row>5</th><td>ENSMUSG00000000171</td></tr>\n",
       "\t<tr><th scope=row>6</th><td>ENSMUSG00000000214</td></tr>\n",
       "</tbody>\n",
       "</table>\n"
      ],
      "text/latex": [
       "A data.frame: 6 × 1\n",
       "\\begin{tabular}{r|l}\n",
       "  & V1\\\\\n",
       "  & <chr>\\\\\n",
       "\\hline\n",
       "\t1 & ENSMUSG00000000031\\\\\n",
       "\t2 & ENSMUSG00000000078\\\\\n",
       "\t3 & ENSMUSG00000000093\\\\\n",
       "\t4 & ENSMUSG00000000142\\\\\n",
       "\t5 & ENSMUSG00000000171\\\\\n",
       "\t6 & ENSMUSG00000000214\\\\\n",
       "\\end{tabular}\n"
      ],
      "text/markdown": [
       "\n",
       "A data.frame: 6 × 1\n",
       "\n",
       "| <!--/--> | V1 &lt;chr&gt; |\n",
       "|---|---|\n",
       "| 1 | ENSMUSG00000000031 |\n",
       "| 2 | ENSMUSG00000000078 |\n",
       "| 3 | ENSMUSG00000000093 |\n",
       "| 4 | ENSMUSG00000000142 |\n",
       "| 5 | ENSMUSG00000000171 |\n",
       "| 6 | ENSMUSG00000000214 |\n",
       "\n"
      ],
      "text/plain": [
       "  V1                \n",
       "1 ENSMUSG00000000031\n",
       "2 ENSMUSG00000000078\n",
       "3 ENSMUSG00000000093\n",
       "4 ENSMUSG00000000142\n",
       "5 ENSMUSG00000000171\n",
       "6 ENSMUSG00000000214"
      ]
     },
     "metadata": {},
     "output_type": "display_data"
    }
   ],
   "source": [
    "head(DEgenes)"
   ]
  },
  {
   "cell_type": "code",
   "execution_count": 9,
   "metadata": {},
   "outputs": [
    {
     "data": {
      "text/html": [
       "<style>\n",
       ".list-inline {list-style: none; margin:0; padding: 0}\n",
       ".list-inline>li {display: inline-block}\n",
       ".list-inline>li:not(:last-child)::after {content: \"\\00b7\"; padding: 0 .5ex}\n",
       "</style>\n",
       "<ol class=list-inline><li>'ENSMUSG00000000031'</li><li>'ENSMUSG00000000078'</li><li>'ENSMUSG00000000093'</li><li>'ENSMUSG00000000142'</li><li>'ENSMUSG00000000171'</li><li>'ENSMUSG00000000214'</li></ol>\n"
      ],
      "text/latex": [
       "\\begin{enumerate*}\n",
       "\\item 'ENSMUSG00000000031'\n",
       "\\item 'ENSMUSG00000000078'\n",
       "\\item 'ENSMUSG00000000093'\n",
       "\\item 'ENSMUSG00000000142'\n",
       "\\item 'ENSMUSG00000000171'\n",
       "\\item 'ENSMUSG00000000214'\n",
       "\\end{enumerate*}\n"
      ],
      "text/markdown": [
       "1. 'ENSMUSG00000000031'\n",
       "2. 'ENSMUSG00000000078'\n",
       "3. 'ENSMUSG00000000093'\n",
       "4. 'ENSMUSG00000000142'\n",
       "5. 'ENSMUSG00000000171'\n",
       "6. 'ENSMUSG00000000214'\n",
       "\n",
       "\n"
      ],
      "text/plain": [
       "[1] \"ENSMUSG00000000031\" \"ENSMUSG00000000078\" \"ENSMUSG00000000093\"\n",
       "[4] \"ENSMUSG00000000142\" \"ENSMUSG00000000171\" \"ENSMUSG00000000214\""
      ]
     },
     "metadata": {},
     "output_type": "display_data"
    }
   ],
   "source": [
    "head(DEgenes$V1)"
   ]
  },
  {
   "cell_type": "code",
   "execution_count": 10,
   "metadata": {},
   "outputs": [
    {
     "data": {
      "text/html": [
       "<table>\n",
       "<caption>A data.frame: 6 × 8</caption>\n",
       "<thead>\n",
       "\t<tr><th></th><th scope=col>ENSEMBLID</th><th scope=col>gene</th><th scope=col>VV.Red._</th><th scope=col>VV.Red.P2</th><th scope=col>VV.Red.P4</th><th scope=col>VV.RedGreen._</th><th scope=col>VV.RedGreen.P2</th><th scope=col>VV.RedGreen.P4</th></tr>\n",
       "\t<tr><th></th><th scope=col>&lt;chr&gt;</th><th scope=col>&lt;chr&gt;</th><th scope=col>&lt;dbl&gt;</th><th scope=col>&lt;dbl&gt;</th><th scope=col>&lt;dbl&gt;</th><th scope=col>&lt;dbl&gt;</th><th scope=col>&lt;dbl&gt;</th><th scope=col>&lt;dbl&gt;</th></tr>\n",
       "</thead>\n",
       "<tbody>\n",
       "\t<tr><th scope=row>1</th><td>ENSMUSG00000000001</td><td>Gnai3</td><td> 896.6613</td><td> 989.9994</td><td>1321.1270</td><td> 795.53205</td><td> 640.86392</td><td> 712.4223</td></tr>\n",
       "\t<tr><th scope=row>2</th><td>ENSMUSG00000000003</td><td>Pbsn </td><td>   0.0000</td><td>   0.0000</td><td>   0.0000</td><td>   0.00000</td><td>   0.00000</td><td>   0.0000</td></tr>\n",
       "\t<tr><th scope=row>3</th><td>ENSMUSG00000000028</td><td>Cdc45</td><td> 130.0220</td><td> 144.3086</td><td> 202.8502</td><td> 164.28384</td><td>  42.85715</td><td> 202.2306</td></tr>\n",
       "\t<tr><th scope=row>4</th><td>ENSMUSG00000000031</td><td>H19  </td><td>5933.1748</td><td>4719.7400</td><td>3526.4730</td><td>2864.51276</td><td>1872.75787</td><td>1640.5013</td></tr>\n",
       "\t<tr><th scope=row>5</th><td>ENSMUSG00000000037</td><td>Scml2</td><td> 105.4896</td><td> 119.9035</td><td> 178.5775</td><td>  81.64409</td><td> 161.46183</td><td> 163.6306</td></tr>\n",
       "\t<tr><th scope=row>6</th><td>ENSMUSG00000000049</td><td>Apoh </td><td>   0.0000</td><td>   0.0000</td><td>   0.0000</td><td>   0.00000</td><td>   0.00000</td><td>   0.0000</td></tr>\n",
       "</tbody>\n",
       "</table>\n"
      ],
      "text/latex": [
       "A data.frame: 6 × 8\n",
       "\\begin{tabular}{r|llllllll}\n",
       "  & ENSEMBLID & gene & VV.Red.\\_ & VV.Red.P2 & VV.Red.P4 & VV.RedGreen.\\_ & VV.RedGreen.P2 & VV.RedGreen.P4\\\\\n",
       "  & <chr> & <chr> & <dbl> & <dbl> & <dbl> & <dbl> & <dbl> & <dbl>\\\\\n",
       "\\hline\n",
       "\t1 & ENSMUSG00000000001 & Gnai3 &  896.6613 &  989.9994 & 1321.1270 &  795.53205 &  640.86392 &  712.4223\\\\\n",
       "\t2 & ENSMUSG00000000003 & Pbsn  &    0.0000 &    0.0000 &    0.0000 &    0.00000 &    0.00000 &    0.0000\\\\\n",
       "\t3 & ENSMUSG00000000028 & Cdc45 &  130.0220 &  144.3086 &  202.8502 &  164.28384 &   42.85715 &  202.2306\\\\\n",
       "\t4 & ENSMUSG00000000031 & H19   & 5933.1748 & 4719.7400 & 3526.4730 & 2864.51276 & 1872.75787 & 1640.5013\\\\\n",
       "\t5 & ENSMUSG00000000037 & Scml2 &  105.4896 &  119.9035 &  178.5775 &   81.64409 &  161.46183 &  163.6306\\\\\n",
       "\t6 & ENSMUSG00000000049 & Apoh  &    0.0000 &    0.0000 &    0.0000 &    0.00000 &    0.00000 &    0.0000\\\\\n",
       "\\end{tabular}\n"
      ],
      "text/markdown": [
       "\n",
       "A data.frame: 6 × 8\n",
       "\n",
       "| <!--/--> | ENSEMBLID &lt;chr&gt; | gene &lt;chr&gt; | VV.Red._ &lt;dbl&gt; | VV.Red.P2 &lt;dbl&gt; | VV.Red.P4 &lt;dbl&gt; | VV.RedGreen._ &lt;dbl&gt; | VV.RedGreen.P2 &lt;dbl&gt; | VV.RedGreen.P4 &lt;dbl&gt; |\n",
       "|---|---|---|---|---|---|---|---|---|\n",
       "| 1 | ENSMUSG00000000001 | Gnai3 |  896.6613 |  989.9994 | 1321.1270 |  795.53205 |  640.86392 |  712.4223 |\n",
       "| 2 | ENSMUSG00000000003 | Pbsn  |    0.0000 |    0.0000 |    0.0000 |    0.00000 |    0.00000 |    0.0000 |\n",
       "| 3 | ENSMUSG00000000028 | Cdc45 |  130.0220 |  144.3086 |  202.8502 |  164.28384 |   42.85715 |  202.2306 |\n",
       "| 4 | ENSMUSG00000000031 | H19   | 5933.1748 | 4719.7400 | 3526.4730 | 2864.51276 | 1872.75787 | 1640.5013 |\n",
       "| 5 | ENSMUSG00000000037 | Scml2 |  105.4896 |  119.9035 |  178.5775 |   81.64409 |  161.46183 |  163.6306 |\n",
       "| 6 | ENSMUSG00000000049 | Apoh  |    0.0000 |    0.0000 |    0.0000 |    0.00000 |    0.00000 |    0.0000 |\n",
       "\n"
      ],
      "text/plain": [
       "  ENSEMBLID          gene  VV.Red._  VV.Red.P2 VV.Red.P4 VV.RedGreen._\n",
       "1 ENSMUSG00000000001 Gnai3  896.6613  989.9994 1321.1270  795.53205   \n",
       "2 ENSMUSG00000000003 Pbsn     0.0000    0.0000    0.0000    0.00000   \n",
       "3 ENSMUSG00000000028 Cdc45  130.0220  144.3086  202.8502  164.28384   \n",
       "4 ENSMUSG00000000031 H19   5933.1748 4719.7400 3526.4730 2864.51276   \n",
       "5 ENSMUSG00000000037 Scml2  105.4896  119.9035  178.5775   81.64409   \n",
       "6 ENSMUSG00000000049 Apoh     0.0000    0.0000    0.0000    0.00000   \n",
       "  VV.RedGreen.P2 VV.RedGreen.P4\n",
       "1  640.86392      712.4223     \n",
       "2    0.00000        0.0000     \n",
       "3   42.85715      202.2306     \n",
       "4 1872.75787     1640.5013     \n",
       "5  161.46183      163.6306     \n",
       "6    0.00000        0.0000     "
      ]
     },
     "metadata": {},
     "output_type": "display_data"
    }
   ],
   "source": [
    "head(norm)"
   ]
  },
  {
   "cell_type": "code",
   "execution_count": 11,
   "metadata": {},
   "outputs": [],
   "source": [
    "new_norm = norm[norm$ENSEMBLID %in% DEgenes$V1,]"
   ]
  },
  {
   "cell_type": "code",
   "execution_count": 12,
   "metadata": {},
   "outputs": [
    {
     "data": {
      "text/html": [
       "<table>\n",
       "<caption>A data.frame: 6 × 8</caption>\n",
       "<thead>\n",
       "\t<tr><th></th><th scope=col>ENSEMBLID</th><th scope=col>gene</th><th scope=col>VV.Red._</th><th scope=col>VV.Red.P2</th><th scope=col>VV.Red.P4</th><th scope=col>VV.RedGreen._</th><th scope=col>VV.RedGreen.P2</th><th scope=col>VV.RedGreen.P4</th></tr>\n",
       "\t<tr><th></th><th scope=col>&lt;chr&gt;</th><th scope=col>&lt;chr&gt;</th><th scope=col>&lt;dbl&gt;</th><th scope=col>&lt;dbl&gt;</th><th scope=col>&lt;dbl&gt;</th><th scope=col>&lt;dbl&gt;</th><th scope=col>&lt;dbl&gt;</th><th scope=col>&lt;dbl&gt;</th></tr>\n",
       "</thead>\n",
       "<tbody>\n",
       "\t<tr><th scope=row>4</th><td>ENSMUSG00000000031</td><td>H19  </td><td>5933.174822</td><td>4719.740013</td><td>3526.472966</td><td>2864.51276</td><td>1872.75787</td><td>1640.50127</td></tr>\n",
       "\t<tr><th scope=row>9</th><td>ENSMUSG00000000078</td><td>Klf6 </td><td>2360.022402</td><td>4323.952462</td><td>8420.884561</td><td>1464.61532</td><td>1443.18967</td><td>1330.86190</td></tr>\n",
       "\t<tr><th scope=row>12</th><td>ENSMUSG00000000093</td><td>Tbx2 </td><td>  95.676584</td><td> 105.048170</td><td>  54.613519</td><td>  18.91753</td><td>  10.96346</td><td>  30.20872</td></tr>\n",
       "\t<tr><th scope=row>21</th><td>ENSMUSG00000000142</td><td>Axin2</td><td> 163.140842</td><td> 155.980616</td><td>  94.490057</td><td> 472.93832</td><td> 360.79742</td><td> 211.46103</td></tr>\n",
       "\t<tr><th scope=row>29</th><td>ENSMUSG00000000171</td><td>Sdhd </td><td>4204.863198</td><td>2924.371285</td><td>3891.429977</td><td>7616.79618</td><td>5654.15402</td><td>8554.94143</td></tr>\n",
       "\t<tr><th scope=row>37</th><td>ENSMUSG00000000214</td><td>Th   </td><td>   1.226623</td><td>   1.061093</td><td>   3.467525</td><td>1020.55112</td><td>1263.78764</td><td>1016.18775</td></tr>\n",
       "</tbody>\n",
       "</table>\n"
      ],
      "text/latex": [
       "A data.frame: 6 × 8\n",
       "\\begin{tabular}{r|llllllll}\n",
       "  & ENSEMBLID & gene & VV.Red.\\_ & VV.Red.P2 & VV.Red.P4 & VV.RedGreen.\\_ & VV.RedGreen.P2 & VV.RedGreen.P4\\\\\n",
       "  & <chr> & <chr> & <dbl> & <dbl> & <dbl> & <dbl> & <dbl> & <dbl>\\\\\n",
       "\\hline\n",
       "\t4 & ENSMUSG00000000031 & H19   & 5933.174822 & 4719.740013 & 3526.472966 & 2864.51276 & 1872.75787 & 1640.50127\\\\\n",
       "\t9 & ENSMUSG00000000078 & Klf6  & 2360.022402 & 4323.952462 & 8420.884561 & 1464.61532 & 1443.18967 & 1330.86190\\\\\n",
       "\t12 & ENSMUSG00000000093 & Tbx2  &   95.676584 &  105.048170 &   54.613519 &   18.91753 &   10.96346 &   30.20872\\\\\n",
       "\t21 & ENSMUSG00000000142 & Axin2 &  163.140842 &  155.980616 &   94.490057 &  472.93832 &  360.79742 &  211.46103\\\\\n",
       "\t29 & ENSMUSG00000000171 & Sdhd  & 4204.863198 & 2924.371285 & 3891.429977 & 7616.79618 & 5654.15402 & 8554.94143\\\\\n",
       "\t37 & ENSMUSG00000000214 & Th    &    1.226623 &    1.061093 &    3.467525 & 1020.55112 & 1263.78764 & 1016.18775\\\\\n",
       "\\end{tabular}\n"
      ],
      "text/markdown": [
       "\n",
       "A data.frame: 6 × 8\n",
       "\n",
       "| <!--/--> | ENSEMBLID &lt;chr&gt; | gene &lt;chr&gt; | VV.Red._ &lt;dbl&gt; | VV.Red.P2 &lt;dbl&gt; | VV.Red.P4 &lt;dbl&gt; | VV.RedGreen._ &lt;dbl&gt; | VV.RedGreen.P2 &lt;dbl&gt; | VV.RedGreen.P4 &lt;dbl&gt; |\n",
       "|---|---|---|---|---|---|---|---|---|\n",
       "| 4 | ENSMUSG00000000031 | H19   | 5933.174822 | 4719.740013 | 3526.472966 | 2864.51276 | 1872.75787 | 1640.50127 |\n",
       "| 9 | ENSMUSG00000000078 | Klf6  | 2360.022402 | 4323.952462 | 8420.884561 | 1464.61532 | 1443.18967 | 1330.86190 |\n",
       "| 12 | ENSMUSG00000000093 | Tbx2  |   95.676584 |  105.048170 |   54.613519 |   18.91753 |   10.96346 |   30.20872 |\n",
       "| 21 | ENSMUSG00000000142 | Axin2 |  163.140842 |  155.980616 |   94.490057 |  472.93832 |  360.79742 |  211.46103 |\n",
       "| 29 | ENSMUSG00000000171 | Sdhd  | 4204.863198 | 2924.371285 | 3891.429977 | 7616.79618 | 5654.15402 | 8554.94143 |\n",
       "| 37 | ENSMUSG00000000214 | Th    |    1.226623 |    1.061093 |    3.467525 | 1020.55112 | 1263.78764 | 1016.18775 |\n",
       "\n"
      ],
      "text/plain": [
       "   ENSEMBLID          gene  VV.Red._    VV.Red.P2   VV.Red.P4   VV.RedGreen._\n",
       "4  ENSMUSG00000000031 H19   5933.174822 4719.740013 3526.472966 2864.51276   \n",
       "9  ENSMUSG00000000078 Klf6  2360.022402 4323.952462 8420.884561 1464.61532   \n",
       "12 ENSMUSG00000000093 Tbx2    95.676584  105.048170   54.613519   18.91753   \n",
       "21 ENSMUSG00000000142 Axin2  163.140842  155.980616   94.490057  472.93832   \n",
       "29 ENSMUSG00000000171 Sdhd  4204.863198 2924.371285 3891.429977 7616.79618   \n",
       "37 ENSMUSG00000000214 Th       1.226623    1.061093    3.467525 1020.55112   \n",
       "   VV.RedGreen.P2 VV.RedGreen.P4\n",
       "4  1872.75787     1640.50127    \n",
       "9  1443.18967     1330.86190    \n",
       "12   10.96346       30.20872    \n",
       "21  360.79742      211.46103    \n",
       "29 5654.15402     8554.94143    \n",
       "37 1263.78764     1016.18775    "
      ]
     },
     "metadata": {},
     "output_type": "display_data"
    }
   ],
   "source": [
    "head(new_norm)"
   ]
  },
  {
   "cell_type": "code",
   "execution_count": 13,
   "metadata": {},
   "outputs": [
    {
     "data": {
      "text/html": [
       "1542"
      ],
      "text/latex": [
       "1542"
      ],
      "text/markdown": [
       "1542"
      ],
      "text/plain": [
       "[1] 1542"
      ]
     },
     "metadata": {},
     "output_type": "display_data"
    }
   ],
   "source": [
    "length(new_norm$ENSEMBLID)"
   ]
  },
  {
   "cell_type": "code",
   "execution_count": 14,
   "metadata": {},
   "outputs": [],
   "source": [
    "new_norm = new_norm[,-c(1)]"
   ]
  },
  {
   "cell_type": "code",
   "execution_count": 15,
   "metadata": {},
   "outputs": [
    {
     "data": {
      "text/html": [
       "<table>\n",
       "<caption>A data.frame: 6 × 7</caption>\n",
       "<thead>\n",
       "\t<tr><th></th><th scope=col>gene</th><th scope=col>VV.Red._</th><th scope=col>VV.Red.P2</th><th scope=col>VV.Red.P4</th><th scope=col>VV.RedGreen._</th><th scope=col>VV.RedGreen.P2</th><th scope=col>VV.RedGreen.P4</th></tr>\n",
       "\t<tr><th></th><th scope=col>&lt;chr&gt;</th><th scope=col>&lt;dbl&gt;</th><th scope=col>&lt;dbl&gt;</th><th scope=col>&lt;dbl&gt;</th><th scope=col>&lt;dbl&gt;</th><th scope=col>&lt;dbl&gt;</th><th scope=col>&lt;dbl&gt;</th></tr>\n",
       "</thead>\n",
       "<tbody>\n",
       "\t<tr><th scope=row>4</th><td>H19  </td><td>5933.174822</td><td>4719.740013</td><td>3526.472966</td><td>2864.51276</td><td>1872.75787</td><td>1640.50127</td></tr>\n",
       "\t<tr><th scope=row>9</th><td>Klf6 </td><td>2360.022402</td><td>4323.952462</td><td>8420.884561</td><td>1464.61532</td><td>1443.18967</td><td>1330.86190</td></tr>\n",
       "\t<tr><th scope=row>12</th><td>Tbx2 </td><td>  95.676584</td><td> 105.048170</td><td>  54.613519</td><td>  18.91753</td><td>  10.96346</td><td>  30.20872</td></tr>\n",
       "\t<tr><th scope=row>21</th><td>Axin2</td><td> 163.140842</td><td> 155.980616</td><td>  94.490057</td><td> 472.93832</td><td> 360.79742</td><td> 211.46103</td></tr>\n",
       "\t<tr><th scope=row>29</th><td>Sdhd </td><td>4204.863198</td><td>2924.371285</td><td>3891.429977</td><td>7616.79618</td><td>5654.15402</td><td>8554.94143</td></tr>\n",
       "\t<tr><th scope=row>37</th><td>Th   </td><td>   1.226623</td><td>   1.061093</td><td>   3.467525</td><td>1020.55112</td><td>1263.78764</td><td>1016.18775</td></tr>\n",
       "</tbody>\n",
       "</table>\n"
      ],
      "text/latex": [
       "A data.frame: 6 × 7\n",
       "\\begin{tabular}{r|lllllll}\n",
       "  & gene & VV.Red.\\_ & VV.Red.P2 & VV.Red.P4 & VV.RedGreen.\\_ & VV.RedGreen.P2 & VV.RedGreen.P4\\\\\n",
       "  & <chr> & <dbl> & <dbl> & <dbl> & <dbl> & <dbl> & <dbl>\\\\\n",
       "\\hline\n",
       "\t4 & H19   & 5933.174822 & 4719.740013 & 3526.472966 & 2864.51276 & 1872.75787 & 1640.50127\\\\\n",
       "\t9 & Klf6  & 2360.022402 & 4323.952462 & 8420.884561 & 1464.61532 & 1443.18967 & 1330.86190\\\\\n",
       "\t12 & Tbx2  &   95.676584 &  105.048170 &   54.613519 &   18.91753 &   10.96346 &   30.20872\\\\\n",
       "\t21 & Axin2 &  163.140842 &  155.980616 &   94.490057 &  472.93832 &  360.79742 &  211.46103\\\\\n",
       "\t29 & Sdhd  & 4204.863198 & 2924.371285 & 3891.429977 & 7616.79618 & 5654.15402 & 8554.94143\\\\\n",
       "\t37 & Th    &    1.226623 &    1.061093 &    3.467525 & 1020.55112 & 1263.78764 & 1016.18775\\\\\n",
       "\\end{tabular}\n"
      ],
      "text/markdown": [
       "\n",
       "A data.frame: 6 × 7\n",
       "\n",
       "| <!--/--> | gene &lt;chr&gt; | VV.Red._ &lt;dbl&gt; | VV.Red.P2 &lt;dbl&gt; | VV.Red.P4 &lt;dbl&gt; | VV.RedGreen._ &lt;dbl&gt; | VV.RedGreen.P2 &lt;dbl&gt; | VV.RedGreen.P4 &lt;dbl&gt; |\n",
       "|---|---|---|---|---|---|---|---|\n",
       "| 4 | H19   | 5933.174822 | 4719.740013 | 3526.472966 | 2864.51276 | 1872.75787 | 1640.50127 |\n",
       "| 9 | Klf6  | 2360.022402 | 4323.952462 | 8420.884561 | 1464.61532 | 1443.18967 | 1330.86190 |\n",
       "| 12 | Tbx2  |   95.676584 |  105.048170 |   54.613519 |   18.91753 |   10.96346 |   30.20872 |\n",
       "| 21 | Axin2 |  163.140842 |  155.980616 |   94.490057 |  472.93832 |  360.79742 |  211.46103 |\n",
       "| 29 | Sdhd  | 4204.863198 | 2924.371285 | 3891.429977 | 7616.79618 | 5654.15402 | 8554.94143 |\n",
       "| 37 | Th    |    1.226623 |    1.061093 |    3.467525 | 1020.55112 | 1263.78764 | 1016.18775 |\n",
       "\n"
      ],
      "text/plain": [
       "   gene  VV.Red._    VV.Red.P2   VV.Red.P4   VV.RedGreen._ VV.RedGreen.P2\n",
       "4  H19   5933.174822 4719.740013 3526.472966 2864.51276    1872.75787    \n",
       "9  Klf6  2360.022402 4323.952462 8420.884561 1464.61532    1443.18967    \n",
       "12 Tbx2    95.676584  105.048170   54.613519   18.91753      10.96346    \n",
       "21 Axin2  163.140842  155.980616   94.490057  472.93832     360.79742    \n",
       "29 Sdhd  4204.863198 2924.371285 3891.429977 7616.79618    5654.15402    \n",
       "37 Th       1.226623    1.061093    3.467525 1020.55112    1263.78764    \n",
       "   VV.RedGreen.P4\n",
       "4  1640.50127    \n",
       "9  1330.86190    \n",
       "12   30.20872    \n",
       "21  211.46103    \n",
       "29 8554.94143    \n",
       "37 1016.18775    "
      ]
     },
     "metadata": {},
     "output_type": "display_data"
    }
   ],
   "source": [
    "head(new_norm)"
   ]
  },
  {
   "cell_type": "code",
   "execution_count": 16,
   "metadata": {},
   "outputs": [],
   "source": [
    "rownames(new_norm) = new_norm$gene"
   ]
  },
  {
   "cell_type": "code",
   "execution_count": 17,
   "metadata": {},
   "outputs": [],
   "source": [
    "new_norm = new_norm[,-c(1)]"
   ]
  },
  {
   "cell_type": "code",
   "execution_count": 18,
   "metadata": {},
   "outputs": [],
   "source": [
    "write.csv(new_norm, 'new_norm.csv')\n"
   ]
  },
  {
   "cell_type": "code",
   "execution_count": 19,
   "metadata": {},
   "outputs": [
    {
     "data": {
      "text/html": [
       "<table>\n",
       "<caption>A data.frame: 6 × 6</caption>\n",
       "<thead>\n",
       "\t<tr><th></th><th scope=col>VV.Red._</th><th scope=col>VV.Red.P2</th><th scope=col>VV.Red.P4</th><th scope=col>VV.RedGreen._</th><th scope=col>VV.RedGreen.P2</th><th scope=col>VV.RedGreen.P4</th></tr>\n",
       "\t<tr><th></th><th scope=col>&lt;dbl&gt;</th><th scope=col>&lt;dbl&gt;</th><th scope=col>&lt;dbl&gt;</th><th scope=col>&lt;dbl&gt;</th><th scope=col>&lt;dbl&gt;</th><th scope=col>&lt;dbl&gt;</th></tr>\n",
       "</thead>\n",
       "<tbody>\n",
       "\t<tr><th scope=row>H19</th><td>5933.174822</td><td>4719.740013</td><td>3526.472966</td><td>2864.51276</td><td>1872.75787</td><td>1640.50127</td></tr>\n",
       "\t<tr><th scope=row>Klf6</th><td>2360.022402</td><td>4323.952462</td><td>8420.884561</td><td>1464.61532</td><td>1443.18967</td><td>1330.86190</td></tr>\n",
       "\t<tr><th scope=row>Tbx2</th><td>  95.676584</td><td> 105.048170</td><td>  54.613519</td><td>  18.91753</td><td>  10.96346</td><td>  30.20872</td></tr>\n",
       "\t<tr><th scope=row>Axin2</th><td> 163.140842</td><td> 155.980616</td><td>  94.490057</td><td> 472.93832</td><td> 360.79742</td><td> 211.46103</td></tr>\n",
       "\t<tr><th scope=row>Sdhd</th><td>4204.863198</td><td>2924.371285</td><td>3891.429977</td><td>7616.79618</td><td>5654.15402</td><td>8554.94143</td></tr>\n",
       "\t<tr><th scope=row>Th</th><td>   1.226623</td><td>   1.061093</td><td>   3.467525</td><td>1020.55112</td><td>1263.78764</td><td>1016.18775</td></tr>\n",
       "</tbody>\n",
       "</table>\n"
      ],
      "text/latex": [
       "A data.frame: 6 × 6\n",
       "\\begin{tabular}{r|llllll}\n",
       "  & VV.Red.\\_ & VV.Red.P2 & VV.Red.P4 & VV.RedGreen.\\_ & VV.RedGreen.P2 & VV.RedGreen.P4\\\\\n",
       "  & <dbl> & <dbl> & <dbl> & <dbl> & <dbl> & <dbl>\\\\\n",
       "\\hline\n",
       "\tH19 & 5933.174822 & 4719.740013 & 3526.472966 & 2864.51276 & 1872.75787 & 1640.50127\\\\\n",
       "\tKlf6 & 2360.022402 & 4323.952462 & 8420.884561 & 1464.61532 & 1443.18967 & 1330.86190\\\\\n",
       "\tTbx2 &   95.676584 &  105.048170 &   54.613519 &   18.91753 &   10.96346 &   30.20872\\\\\n",
       "\tAxin2 &  163.140842 &  155.980616 &   94.490057 &  472.93832 &  360.79742 &  211.46103\\\\\n",
       "\tSdhd & 4204.863198 & 2924.371285 & 3891.429977 & 7616.79618 & 5654.15402 & 8554.94143\\\\\n",
       "\tTh &    1.226623 &    1.061093 &    3.467525 & 1020.55112 & 1263.78764 & 1016.18775\\\\\n",
       "\\end{tabular}\n"
      ],
      "text/markdown": [
       "\n",
       "A data.frame: 6 × 6\n",
       "\n",
       "| <!--/--> | VV.Red._ &lt;dbl&gt; | VV.Red.P2 &lt;dbl&gt; | VV.Red.P4 &lt;dbl&gt; | VV.RedGreen._ &lt;dbl&gt; | VV.RedGreen.P2 &lt;dbl&gt; | VV.RedGreen.P4 &lt;dbl&gt; |\n",
       "|---|---|---|---|---|---|---|\n",
       "| H19 | 5933.174822 | 4719.740013 | 3526.472966 | 2864.51276 | 1872.75787 | 1640.50127 |\n",
       "| Klf6 | 2360.022402 | 4323.952462 | 8420.884561 | 1464.61532 | 1443.18967 | 1330.86190 |\n",
       "| Tbx2 |   95.676584 |  105.048170 |   54.613519 |   18.91753 |   10.96346 |   30.20872 |\n",
       "| Axin2 |  163.140842 |  155.980616 |   94.490057 |  472.93832 |  360.79742 |  211.46103 |\n",
       "| Sdhd | 4204.863198 | 2924.371285 | 3891.429977 | 7616.79618 | 5654.15402 | 8554.94143 |\n",
       "| Th |    1.226623 |    1.061093 |    3.467525 | 1020.55112 | 1263.78764 | 1016.18775 |\n",
       "\n"
      ],
      "text/plain": [
       "      VV.Red._    VV.Red.P2   VV.Red.P4   VV.RedGreen._ VV.RedGreen.P2\n",
       "H19   5933.174822 4719.740013 3526.472966 2864.51276    1872.75787    \n",
       "Klf6  2360.022402 4323.952462 8420.884561 1464.61532    1443.18967    \n",
       "Tbx2    95.676584  105.048170   54.613519   18.91753      10.96346    \n",
       "Axin2  163.140842  155.980616   94.490057  472.93832     360.79742    \n",
       "Sdhd  4204.863198 2924.371285 3891.429977 7616.79618    5654.15402    \n",
       "Th       1.226623    1.061093    3.467525 1020.55112    1263.78764    \n",
       "      VV.RedGreen.P4\n",
       "H19   1640.50127    \n",
       "Klf6  1330.86190    \n",
       "Tbx2    30.20872    \n",
       "Axin2  211.46103    \n",
       "Sdhd  8554.94143    \n",
       "Th    1016.18775    "
      ]
     },
     "metadata": {},
     "output_type": "display_data"
    }
   ],
   "source": [
    "head(new_norm)"
   ]
  },
  {
   "cell_type": "code",
   "execution_count": 20,
   "metadata": {},
   "outputs": [],
   "source": [
    "cal_z_score = function(x){\n",
    "  (x - mean(x)) / sd(x)\n",
    "}"
   ]
  },
  {
   "cell_type": "code",
   "execution_count": 21,
   "metadata": {},
   "outputs": [],
   "source": [
    "new_norm <- t(apply(new_norm, 1, cal_z_score))"
   ]
  },
  {
   "cell_type": "code",
   "execution_count": 22,
   "metadata": {},
   "outputs": [
    {
     "data": {
      "text/html": [
       "<table>\n",
       "<caption>A matrix: 6 × 6 of type dbl</caption>\n",
       "<thead>\n",
       "\t<tr><th></th><th scope=col>VV.Red._</th><th scope=col>VV.Red.P2</th><th scope=col>VV.Red.P4</th><th scope=col>VV.RedGreen._</th><th scope=col>VV.RedGreen.P2</th><th scope=col>VV.RedGreen.P4</th></tr>\n",
       "</thead>\n",
       "<tbody>\n",
       "\t<tr><th scope=row>H19</th><td> 1.5043661</td><td> 0.7762194</td><td> 0.06017489</td><td>-0.3370480</td><td>-0.9321710</td><td>-1.0715414</td></tr>\n",
       "\t<tr><th scope=row>Klf6</th><td>-0.3100630</td><td> 0.3948137</td><td> 1.86524899</td><td>-0.6314347</td><td>-0.6391246</td><td>-0.6794403</td></tr>\n",
       "\t<tr><th scope=row>Tbx2</th><td> 1.0789855</td><td> 1.3135696</td><td> 0.05111888</td><td>-0.8424022</td><td>-1.0415040</td><td>-0.5597678</td></tr>\n",
       "\t<tr><th scope=row>Axin2</th><td>-0.5553322</td><td>-0.6050398</td><td>-1.03191859</td><td> 1.5953390</td><td> 0.8168362</td><td>-0.2198845</td></tr>\n",
       "\t<tr><th scope=row>Sdhd</th><td>-0.5708328</td><td>-1.1465797</td><td>-0.71176163</td><td> 0.9632727</td><td> 0.0808110</td><td> 1.3850904</td></tr>\n",
       "\t<tr><th scope=row>Th</th><td>-0.9040409</td><td>-0.9043131</td><td>-0.90035632</td><td> 0.7719812</td><td> 1.1719224</td><td> 0.7648067</td></tr>\n",
       "</tbody>\n",
       "</table>\n"
      ],
      "text/latex": [
       "A matrix: 6 × 6 of type dbl\n",
       "\\begin{tabular}{r|llllll}\n",
       "  & VV.Red.\\_ & VV.Red.P2 & VV.Red.P4 & VV.RedGreen.\\_ & VV.RedGreen.P2 & VV.RedGreen.P4\\\\\n",
       "\\hline\n",
       "\tH19 &  1.5043661 &  0.7762194 &  0.06017489 & -0.3370480 & -0.9321710 & -1.0715414\\\\\n",
       "\tKlf6 & -0.3100630 &  0.3948137 &  1.86524899 & -0.6314347 & -0.6391246 & -0.6794403\\\\\n",
       "\tTbx2 &  1.0789855 &  1.3135696 &  0.05111888 & -0.8424022 & -1.0415040 & -0.5597678\\\\\n",
       "\tAxin2 & -0.5553322 & -0.6050398 & -1.03191859 &  1.5953390 &  0.8168362 & -0.2198845\\\\\n",
       "\tSdhd & -0.5708328 & -1.1465797 & -0.71176163 &  0.9632727 &  0.0808110 &  1.3850904\\\\\n",
       "\tTh & -0.9040409 & -0.9043131 & -0.90035632 &  0.7719812 &  1.1719224 &  0.7648067\\\\\n",
       "\\end{tabular}\n"
      ],
      "text/markdown": [
       "\n",
       "A matrix: 6 × 6 of type dbl\n",
       "\n",
       "| <!--/--> | VV.Red._ | VV.Red.P2 | VV.Red.P4 | VV.RedGreen._ | VV.RedGreen.P2 | VV.RedGreen.P4 |\n",
       "|---|---|---|---|---|---|---|\n",
       "| H19 |  1.5043661 |  0.7762194 |  0.06017489 | -0.3370480 | -0.9321710 | -1.0715414 |\n",
       "| Klf6 | -0.3100630 |  0.3948137 |  1.86524899 | -0.6314347 | -0.6391246 | -0.6794403 |\n",
       "| Tbx2 |  1.0789855 |  1.3135696 |  0.05111888 | -0.8424022 | -1.0415040 | -0.5597678 |\n",
       "| Axin2 | -0.5553322 | -0.6050398 | -1.03191859 |  1.5953390 |  0.8168362 | -0.2198845 |\n",
       "| Sdhd | -0.5708328 | -1.1465797 | -0.71176163 |  0.9632727 |  0.0808110 |  1.3850904 |\n",
       "| Th | -0.9040409 | -0.9043131 | -0.90035632 |  0.7719812 |  1.1719224 |  0.7648067 |\n",
       "\n"
      ],
      "text/plain": [
       "      VV.Red._   VV.Red.P2  VV.Red.P4   VV.RedGreen._ VV.RedGreen.P2\n",
       "H19    1.5043661  0.7762194  0.06017489 -0.3370480    -0.9321710    \n",
       "Klf6  -0.3100630  0.3948137  1.86524899 -0.6314347    -0.6391246    \n",
       "Tbx2   1.0789855  1.3135696  0.05111888 -0.8424022    -1.0415040    \n",
       "Axin2 -0.5553322 -0.6050398 -1.03191859  1.5953390     0.8168362    \n",
       "Sdhd  -0.5708328 -1.1465797 -0.71176163  0.9632727     0.0808110    \n",
       "Th    -0.9040409 -0.9043131 -0.90035632  0.7719812     1.1719224    \n",
       "      VV.RedGreen.P4\n",
       "H19   -1.0715414    \n",
       "Klf6  -0.6794403    \n",
       "Tbx2  -0.5597678    \n",
       "Axin2 -0.2198845    \n",
       "Sdhd   1.3850904    \n",
       "Th     0.7648067    "
      ]
     },
     "metadata": {},
     "output_type": "display_data"
    }
   ],
   "source": [
    "head(new_norm)"
   ]
  },
  {
   "cell_type": "code",
   "execution_count": 23,
   "metadata": {},
   "outputs": [],
   "source": [
    "png = (file = \"norm_heatmap.png\")"
   ]
  },
  {
   "cell_type": "code",
   "execution_count": 24,
   "metadata": {},
   "outputs": [],
   "source": [
    "pheatmap(new_norm, filename = \"norm_heatmap.png\")"
   ]
  },
  {
   "cell_type": "code",
   "execution_count": 25,
   "metadata": {},
   "outputs": [],
   "source": [
    "# Get lower triangle of the correlation matrix\n",
    "  get_lower_tri<-function(cormat){\n",
    "    cormat[upper.tri(cormat)] <- NA\n",
    "    return(cormat)\n",
    "  }\n",
    "  # Get upper triangle of the correlation matrix\n",
    "  get_upper_tri <- function(cormat){\n",
    "    cormat[lower.tri(cormat)]<- NA\n",
    "    return(cormat)\n",
    "  }\n",
    "\n",
    "reorder_cormat <- function(cormat){\n",
    "# Use correlation between variables as distance\n",
    "dd <- as.dist((1-cormat)/2)\n",
    "hc <- hclust(dd)\n",
    "cormat <-cormat[hc$order, hc$order]\n",
    "}"
   ]
  },
  {
   "cell_type": "code",
   "execution_count": 26,
   "metadata": {},
   "outputs": [],
   "source": [
    "norm_combo = norm[norm$ENSEMBLID %in% DEmerge$common,]"
   ]
  },
  {
   "cell_type": "code",
   "execution_count": 27,
   "metadata": {},
   "outputs": [
    {
     "data": {
      "text/html": [
       "<table>\n",
       "<caption>A data.frame: 6 × 3</caption>\n",
       "<thead>\n",
       "\t<tr><th></th><th scope=col>Dev2019</th><th scope=col>VV</th><th scope=col>common</th></tr>\n",
       "\t<tr><th></th><th scope=col>&lt;chr&gt;</th><th scope=col>&lt;chr&gt;</th><th scope=col>&lt;chr&gt;</th></tr>\n",
       "</thead>\n",
       "<tbody>\n",
       "\t<tr><th scope=row>1</th><td>ENSMUSG00000078619</td><td>ENSMUSG00000097823</td><td>ENSMUSG00000097823</td></tr>\n",
       "\t<tr><th scope=row>2</th><td>ENSMUSG00000031493</td><td>ENSMUSG00000097451</td><td>ENSMUSG00000097451</td></tr>\n",
       "\t<tr><th scope=row>3</th><td>ENSMUSG00000029675</td><td>ENSMUSG00000097391</td><td>ENSMUSG00000097391</td></tr>\n",
       "\t<tr><th scope=row>4</th><td>ENSMUSG00000101493</td><td>ENSMUSG00000094613</td><td>ENSMUSG00000094613</td></tr>\n",
       "\t<tr><th scope=row>5</th><td>ENSMUSG00000031285</td><td>ENSMUSG00000092035</td><td>ENSMUSG00000092035</td></tr>\n",
       "\t<tr><th scope=row>6</th><td>ENSMUSG00000046410</td><td>ENSMUSG00000091478</td><td>ENSMUSG00000091478</td></tr>\n",
       "</tbody>\n",
       "</table>\n"
      ],
      "text/latex": [
       "A data.frame: 6 × 3\n",
       "\\begin{tabular}{r|lll}\n",
       "  & Dev2019 & VV & common\\\\\n",
       "  & <chr> & <chr> & <chr>\\\\\n",
       "\\hline\n",
       "\t1 & ENSMUSG00000078619 & ENSMUSG00000097823 & ENSMUSG00000097823\\\\\n",
       "\t2 & ENSMUSG00000031493 & ENSMUSG00000097451 & ENSMUSG00000097451\\\\\n",
       "\t3 & ENSMUSG00000029675 & ENSMUSG00000097391 & ENSMUSG00000097391\\\\\n",
       "\t4 & ENSMUSG00000101493 & ENSMUSG00000094613 & ENSMUSG00000094613\\\\\n",
       "\t5 & ENSMUSG00000031285 & ENSMUSG00000092035 & ENSMUSG00000092035\\\\\n",
       "\t6 & ENSMUSG00000046410 & ENSMUSG00000091478 & ENSMUSG00000091478\\\\\n",
       "\\end{tabular}\n"
      ],
      "text/markdown": [
       "\n",
       "A data.frame: 6 × 3\n",
       "\n",
       "| <!--/--> | Dev2019 &lt;chr&gt; | VV &lt;chr&gt; | common &lt;chr&gt; |\n",
       "|---|---|---|---|\n",
       "| 1 | ENSMUSG00000078619 | ENSMUSG00000097823 | ENSMUSG00000097823 |\n",
       "| 2 | ENSMUSG00000031493 | ENSMUSG00000097451 | ENSMUSG00000097451 |\n",
       "| 3 | ENSMUSG00000029675 | ENSMUSG00000097391 | ENSMUSG00000097391 |\n",
       "| 4 | ENSMUSG00000101493 | ENSMUSG00000094613 | ENSMUSG00000094613 |\n",
       "| 5 | ENSMUSG00000031285 | ENSMUSG00000092035 | ENSMUSG00000092035 |\n",
       "| 6 | ENSMUSG00000046410 | ENSMUSG00000091478 | ENSMUSG00000091478 |\n",
       "\n"
      ],
      "text/plain": [
       "  Dev2019            VV                 common            \n",
       "1 ENSMUSG00000078619 ENSMUSG00000097823 ENSMUSG00000097823\n",
       "2 ENSMUSG00000031493 ENSMUSG00000097451 ENSMUSG00000097451\n",
       "3 ENSMUSG00000029675 ENSMUSG00000097391 ENSMUSG00000097391\n",
       "4 ENSMUSG00000101493 ENSMUSG00000094613 ENSMUSG00000094613\n",
       "5 ENSMUSG00000031285 ENSMUSG00000092035 ENSMUSG00000092035\n",
       "6 ENSMUSG00000046410 ENSMUSG00000091478 ENSMUSG00000091478"
      ]
     },
     "metadata": {},
     "output_type": "display_data"
    }
   ],
   "source": [
    "head(DEmerge)"
   ]
  },
  {
   "cell_type": "code",
   "execution_count": 28,
   "metadata": {},
   "outputs": [],
   "source": [
    "dev_combo = devdata[devdata$Gene_ENSEMBL %in% DEmerge$common,]"
   ]
  },
  {
   "cell_type": "code",
   "execution_count": 29,
   "metadata": {},
   "outputs": [
    {
     "data": {
      "text/html": [
       "<table>\n",
       "<caption>A data.frame: 6 × 8</caption>\n",
       "<thead>\n",
       "\t<tr><th></th><th scope=col>Gene_symbol</th><th scope=col>Gene_ENSEMBL</th><th scope=col>Whole_heart_E17.5_Katushka1</th><th scope=col>Whole_heart_E17.5_Katushka2</th><th scope=col>Whole_heart_E17.5_Katushka3</th><th scope=col>SAN_E17.5_Venus1</th><th scope=col>SAN_E17.5_Venus2</th><th scope=col>SAN_E17.5_Venus3</th></tr>\n",
       "\t<tr><th></th><th scope=col>&lt;chr&gt;</th><th scope=col>&lt;chr&gt;</th><th scope=col>&lt;dbl&gt;</th><th scope=col>&lt;dbl&gt;</th><th scope=col>&lt;dbl&gt;</th><th scope=col>&lt;dbl&gt;</th><th scope=col>&lt;dbl&gt;</th><th scope=col>&lt;dbl&gt;</th></tr>\n",
       "</thead>\n",
       "<tbody>\n",
       "\t<tr><th scope=row>9</th><td>Klf6</td><td>ENSMUSG00000000078</td><td> 722.850300</td><td> 745.819034</td><td> 786.621774</td><td>1970.8595</td><td>1657.65189</td><td>4610.754083</td></tr>\n",
       "\t<tr><th scope=row>29</th><td>Sdhd</td><td>ENSMUSG00000000171</td><td>8207.691806</td><td>4406.439504</td><td>4361.641628</td><td>1992.2006</td><td> 753.44494</td><td> 234.327569</td></tr>\n",
       "\t<tr><th scope=row>37</th><td>Th  </td><td>ENSMUSG00000000214</td><td>   0.000000</td><td>   0.000000</td><td>   3.913541</td><td> 122.7119</td><td>  43.43990</td><td>   1.981628</td></tr>\n",
       "\t<tr><th scope=row>56</th><td>Cdh4</td><td>ENSMUSG00000000305</td><td>   8.504121</td><td>  12.954673</td><td>   1.956771</td><td> 281.7038</td><td> 742.85875</td><td> 131.282887</td></tr>\n",
       "\t<tr><th scope=row>110</th><td>Hk2 </td><td>ENSMUSG00000000628</td><td>2002.113099</td><td>1482.384730</td><td>1498.886266</td><td> 503.6522</td><td> 761.47585</td><td> 422.086868</td></tr>\n",
       "\t<tr><th scope=row>153</th><td>Dbh </td><td>ENSMUSG00000000889</td><td>  15.793368</td><td>   9.253338</td><td>   7.827082</td><td> 265.6979</td><td>  40.15453</td><td>  76.788104</td></tr>\n",
       "</tbody>\n",
       "</table>\n"
      ],
      "text/latex": [
       "A data.frame: 6 × 8\n",
       "\\begin{tabular}{r|llllllll}\n",
       "  & Gene\\_symbol & Gene\\_ENSEMBL & Whole\\_heart\\_E17.5\\_Katushka1 & Whole\\_heart\\_E17.5\\_Katushka2 & Whole\\_heart\\_E17.5\\_Katushka3 & SAN\\_E17.5\\_Venus1 & SAN\\_E17.5\\_Venus2 & SAN\\_E17.5\\_Venus3\\\\\n",
       "  & <chr> & <chr> & <dbl> & <dbl> & <dbl> & <dbl> & <dbl> & <dbl>\\\\\n",
       "\\hline\n",
       "\t9 & Klf6 & ENSMUSG00000000078 &  722.850300 &  745.819034 &  786.621774 & 1970.8595 & 1657.65189 & 4610.754083\\\\\n",
       "\t29 & Sdhd & ENSMUSG00000000171 & 8207.691806 & 4406.439504 & 4361.641628 & 1992.2006 &  753.44494 &  234.327569\\\\\n",
       "\t37 & Th   & ENSMUSG00000000214 &    0.000000 &    0.000000 &    3.913541 &  122.7119 &   43.43990 &    1.981628\\\\\n",
       "\t56 & Cdh4 & ENSMUSG00000000305 &    8.504121 &   12.954673 &    1.956771 &  281.7038 &  742.85875 &  131.282887\\\\\n",
       "\t110 & Hk2  & ENSMUSG00000000628 & 2002.113099 & 1482.384730 & 1498.886266 &  503.6522 &  761.47585 &  422.086868\\\\\n",
       "\t153 & Dbh  & ENSMUSG00000000889 &   15.793368 &    9.253338 &    7.827082 &  265.6979 &   40.15453 &   76.788104\\\\\n",
       "\\end{tabular}\n"
      ],
      "text/markdown": [
       "\n",
       "A data.frame: 6 × 8\n",
       "\n",
       "| <!--/--> | Gene_symbol &lt;chr&gt; | Gene_ENSEMBL &lt;chr&gt; | Whole_heart_E17.5_Katushka1 &lt;dbl&gt; | Whole_heart_E17.5_Katushka2 &lt;dbl&gt; | Whole_heart_E17.5_Katushka3 &lt;dbl&gt; | SAN_E17.5_Venus1 &lt;dbl&gt; | SAN_E17.5_Venus2 &lt;dbl&gt; | SAN_E17.5_Venus3 &lt;dbl&gt; |\n",
       "|---|---|---|---|---|---|---|---|---|\n",
       "| 9 | Klf6 | ENSMUSG00000000078 |  722.850300 |  745.819034 |  786.621774 | 1970.8595 | 1657.65189 | 4610.754083 |\n",
       "| 29 | Sdhd | ENSMUSG00000000171 | 8207.691806 | 4406.439504 | 4361.641628 | 1992.2006 |  753.44494 |  234.327569 |\n",
       "| 37 | Th   | ENSMUSG00000000214 |    0.000000 |    0.000000 |    3.913541 |  122.7119 |   43.43990 |    1.981628 |\n",
       "| 56 | Cdh4 | ENSMUSG00000000305 |    8.504121 |   12.954673 |    1.956771 |  281.7038 |  742.85875 |  131.282887 |\n",
       "| 110 | Hk2  | ENSMUSG00000000628 | 2002.113099 | 1482.384730 | 1498.886266 |  503.6522 |  761.47585 |  422.086868 |\n",
       "| 153 | Dbh  | ENSMUSG00000000889 |   15.793368 |    9.253338 |    7.827082 |  265.6979 |   40.15453 |   76.788104 |\n",
       "\n"
      ],
      "text/plain": [
       "    Gene_symbol Gene_ENSEMBL       Whole_heart_E17.5_Katushka1\n",
       "9   Klf6        ENSMUSG00000000078  722.850300                \n",
       "29  Sdhd        ENSMUSG00000000171 8207.691806                \n",
       "37  Th          ENSMUSG00000000214    0.000000                \n",
       "56  Cdh4        ENSMUSG00000000305    8.504121                \n",
       "110 Hk2         ENSMUSG00000000628 2002.113099                \n",
       "153 Dbh         ENSMUSG00000000889   15.793368                \n",
       "    Whole_heart_E17.5_Katushka2 Whole_heart_E17.5_Katushka3 SAN_E17.5_Venus1\n",
       "9    745.819034                  786.621774                 1970.8595       \n",
       "29  4406.439504                 4361.641628                 1992.2006       \n",
       "37     0.000000                    3.913541                  122.7119       \n",
       "56    12.954673                    1.956771                  281.7038       \n",
       "110 1482.384730                 1498.886266                  503.6522       \n",
       "153    9.253338                    7.827082                  265.6979       \n",
       "    SAN_E17.5_Venus2 SAN_E17.5_Venus3\n",
       "9   1657.65189       4610.754083     \n",
       "29   753.44494        234.327569     \n",
       "37    43.43990          1.981628     \n",
       "56   742.85875        131.282887     \n",
       "110  761.47585        422.086868     \n",
       "153   40.15453         76.788104     "
      ]
     },
     "metadata": {},
     "output_type": "display_data"
    }
   ],
   "source": [
    "head(dev_combo)"
   ]
  },
  {
   "cell_type": "code",
   "execution_count": 38,
   "metadata": {},
   "outputs": [],
   "source": [
    "write.csv(dev_combo,\"dev_combo.csv\")"
   ]
  },
  {
   "cell_type": "code",
   "execution_count": 39,
   "metadata": {},
   "outputs": [],
   "source": [
    "write.csv(norm_combo,\"norm_combo.csv\")"
   ]
  },
  {
   "cell_type": "code",
   "execution_count": 32,
   "metadata": {},
   "outputs": [],
   "source": [
    "combo_merge = read.table(\"combo_merge.txt\", header = TRUE)"
   ]
  },
  {
   "cell_type": "code",
   "execution_count": 33,
   "metadata": {},
   "outputs": [],
   "source": [
    "rownames(combo_merge) = combo_merge$ENSEMBLID"
   ]
  },
  {
   "cell_type": "code",
   "execution_count": 34,
   "metadata": {},
   "outputs": [],
   "source": [
    "combo_merge = combo_merge[,-c(1)]"
   ]
  },
  {
   "cell_type": "code",
   "execution_count": 35,
   "metadata": {},
   "outputs": [
    {
     "data": {
      "text/html": [
       "<table>\n",
       "<caption>A data.frame: 6 × 12</caption>\n",
       "<thead>\n",
       "\t<tr><th></th><th scope=col>VV.Red._</th><th scope=col>VV.Red.P2</th><th scope=col>VV.Red.P4</th><th scope=col>VV.RedGreen._</th><th scope=col>VV.RedGreen.P2</th><th scope=col>VV.RedGreen.P4</th><th scope=col>Whole_heart_E17.5_Katushka1</th><th scope=col>Whole_heart_E17.5_Katushka2</th><th scope=col>Whole_heart_E17.5_Katushka3</th><th scope=col>SAN_E17.5_Venus1</th><th scope=col>SAN_E17.5_Venus2</th><th scope=col>SAN_E17.5_Venus3</th></tr>\n",
       "\t<tr><th></th><th scope=col>&lt;dbl&gt;</th><th scope=col>&lt;dbl&gt;</th><th scope=col>&lt;dbl&gt;</th><th scope=col>&lt;dbl&gt;</th><th scope=col>&lt;dbl&gt;</th><th scope=col>&lt;dbl&gt;</th><th scope=col>&lt;dbl&gt;</th><th scope=col>&lt;dbl&gt;</th><th scope=col>&lt;dbl&gt;</th><th scope=col>&lt;dbl&gt;</th><th scope=col>&lt;dbl&gt;</th><th scope=col>&lt;dbl&gt;</th></tr>\n",
       "</thead>\n",
       "<tbody>\n",
       "\t<tr><th scope=row>ENSMUSG00000000078</th><td>2360.022402</td><td>4323.952462</td><td>8420.884561</td><td>1464.6153</td><td>1443.1897</td><td>1330.8619</td><td> 722.850300</td><td> 745.819034</td><td> 786.621774</td><td>1970.8595</td><td>1657.65189</td><td>4610.754083</td></tr>\n",
       "\t<tr><th scope=row>ENSMUSG00000000171</th><td>4204.863198</td><td>2924.371285</td><td>3891.429977</td><td>7616.7962</td><td>5654.1540</td><td>8554.9414</td><td>8207.691806</td><td>4406.439504</td><td>4361.641628</td><td>1992.2006</td><td> 753.44494</td><td> 234.327569</td></tr>\n",
       "\t<tr><th scope=row>ENSMUSG00000000214</th><td>   1.226623</td><td>   1.061093</td><td>   3.467525</td><td>1020.5511</td><td>1263.7876</td><td>1016.1877</td><td>   0.000000</td><td>   0.000000</td><td>   3.913541</td><td> 122.7119</td><td>  43.43990</td><td>   1.981628</td></tr>\n",
       "\t<tr><th scope=row>ENSMUSG00000000305</th><td>  38.025309</td><td>  44.565890</td><td>  42.477182</td><td> 231.9887</td><td> 319.9336</td><td> 415.3699</td><td>   8.504121</td><td>  12.954673</td><td>   1.956771</td><td> 281.7038</td><td> 742.85875</td><td> 131.282887</td></tr>\n",
       "\t<tr><th scope=row>ENSMUSG00000000628</th><td> 629.257532</td><td> 685.465838</td><td> 750.719171</td><td>1061.3732</td><td>1232.8906</td><td>1637.9839</td><td>2002.113099</td><td>1482.384730</td><td>1498.886266</td><td> 503.6522</td><td> 761.47585</td><td> 422.086868</td></tr>\n",
       "\t<tr><th scope=row>ENSMUSG00000000889</th><td> 293.162866</td><td> 287.556102</td><td> 214.119671</td><td> 515.7517</td><td> 890.0334</td><td> 849.2007</td><td>  15.793368</td><td>   9.253338</td><td>   7.827082</td><td> 265.6979</td><td>  40.15453</td><td>  76.788104</td></tr>\n",
       "</tbody>\n",
       "</table>\n"
      ],
      "text/latex": [
       "A data.frame: 6 × 12\n",
       "\\begin{tabular}{r|llllllllllll}\n",
       "  & VV.Red.\\_ & VV.Red.P2 & VV.Red.P4 & VV.RedGreen.\\_ & VV.RedGreen.P2 & VV.RedGreen.P4 & Whole\\_heart\\_E17.5\\_Katushka1 & Whole\\_heart\\_E17.5\\_Katushka2 & Whole\\_heart\\_E17.5\\_Katushka3 & SAN\\_E17.5\\_Venus1 & SAN\\_E17.5\\_Venus2 & SAN\\_E17.5\\_Venus3\\\\\n",
       "  & <dbl> & <dbl> & <dbl> & <dbl> & <dbl> & <dbl> & <dbl> & <dbl> & <dbl> & <dbl> & <dbl> & <dbl>\\\\\n",
       "\\hline\n",
       "\tENSMUSG00000000078 & 2360.022402 & 4323.952462 & 8420.884561 & 1464.6153 & 1443.1897 & 1330.8619 &  722.850300 &  745.819034 &  786.621774 & 1970.8595 & 1657.65189 & 4610.754083\\\\\n",
       "\tENSMUSG00000000171 & 4204.863198 & 2924.371285 & 3891.429977 & 7616.7962 & 5654.1540 & 8554.9414 & 8207.691806 & 4406.439504 & 4361.641628 & 1992.2006 &  753.44494 &  234.327569\\\\\n",
       "\tENSMUSG00000000214 &    1.226623 &    1.061093 &    3.467525 & 1020.5511 & 1263.7876 & 1016.1877 &    0.000000 &    0.000000 &    3.913541 &  122.7119 &   43.43990 &    1.981628\\\\\n",
       "\tENSMUSG00000000305 &   38.025309 &   44.565890 &   42.477182 &  231.9887 &  319.9336 &  415.3699 &    8.504121 &   12.954673 &    1.956771 &  281.7038 &  742.85875 &  131.282887\\\\\n",
       "\tENSMUSG00000000628 &  629.257532 &  685.465838 &  750.719171 & 1061.3732 & 1232.8906 & 1637.9839 & 2002.113099 & 1482.384730 & 1498.886266 &  503.6522 &  761.47585 &  422.086868\\\\\n",
       "\tENSMUSG00000000889 &  293.162866 &  287.556102 &  214.119671 &  515.7517 &  890.0334 &  849.2007 &   15.793368 &    9.253338 &    7.827082 &  265.6979 &   40.15453 &   76.788104\\\\\n",
       "\\end{tabular}\n"
      ],
      "text/markdown": [
       "\n",
       "A data.frame: 6 × 12\n",
       "\n",
       "| <!--/--> | VV.Red._ &lt;dbl&gt; | VV.Red.P2 &lt;dbl&gt; | VV.Red.P4 &lt;dbl&gt; | VV.RedGreen._ &lt;dbl&gt; | VV.RedGreen.P2 &lt;dbl&gt; | VV.RedGreen.P4 &lt;dbl&gt; | Whole_heart_E17.5_Katushka1 &lt;dbl&gt; | Whole_heart_E17.5_Katushka2 &lt;dbl&gt; | Whole_heart_E17.5_Katushka3 &lt;dbl&gt; | SAN_E17.5_Venus1 &lt;dbl&gt; | SAN_E17.5_Venus2 &lt;dbl&gt; | SAN_E17.5_Venus3 &lt;dbl&gt; |\n",
       "|---|---|---|---|---|---|---|---|---|---|---|---|---|\n",
       "| ENSMUSG00000000078 | 2360.022402 | 4323.952462 | 8420.884561 | 1464.6153 | 1443.1897 | 1330.8619 |  722.850300 |  745.819034 |  786.621774 | 1970.8595 | 1657.65189 | 4610.754083 |\n",
       "| ENSMUSG00000000171 | 4204.863198 | 2924.371285 | 3891.429977 | 7616.7962 | 5654.1540 | 8554.9414 | 8207.691806 | 4406.439504 | 4361.641628 | 1992.2006 |  753.44494 |  234.327569 |\n",
       "| ENSMUSG00000000214 |    1.226623 |    1.061093 |    3.467525 | 1020.5511 | 1263.7876 | 1016.1877 |    0.000000 |    0.000000 |    3.913541 |  122.7119 |   43.43990 |    1.981628 |\n",
       "| ENSMUSG00000000305 |   38.025309 |   44.565890 |   42.477182 |  231.9887 |  319.9336 |  415.3699 |    8.504121 |   12.954673 |    1.956771 |  281.7038 |  742.85875 |  131.282887 |\n",
       "| ENSMUSG00000000628 |  629.257532 |  685.465838 |  750.719171 | 1061.3732 | 1232.8906 | 1637.9839 | 2002.113099 | 1482.384730 | 1498.886266 |  503.6522 |  761.47585 |  422.086868 |\n",
       "| ENSMUSG00000000889 |  293.162866 |  287.556102 |  214.119671 |  515.7517 |  890.0334 |  849.2007 |   15.793368 |    9.253338 |    7.827082 |  265.6979 |   40.15453 |   76.788104 |\n",
       "\n"
      ],
      "text/plain": [
       "                   VV.Red._    VV.Red.P2   VV.Red.P4   VV.RedGreen._\n",
       "ENSMUSG00000000078 2360.022402 4323.952462 8420.884561 1464.6153    \n",
       "ENSMUSG00000000171 4204.863198 2924.371285 3891.429977 7616.7962    \n",
       "ENSMUSG00000000214    1.226623    1.061093    3.467525 1020.5511    \n",
       "ENSMUSG00000000305   38.025309   44.565890   42.477182  231.9887    \n",
       "ENSMUSG00000000628  629.257532  685.465838  750.719171 1061.3732    \n",
       "ENSMUSG00000000889  293.162866  287.556102  214.119671  515.7517    \n",
       "                   VV.RedGreen.P2 VV.RedGreen.P4 Whole_heart_E17.5_Katushka1\n",
       "ENSMUSG00000000078 1443.1897      1330.8619       722.850300                \n",
       "ENSMUSG00000000171 5654.1540      8554.9414      8207.691806                \n",
       "ENSMUSG00000000214 1263.7876      1016.1877         0.000000                \n",
       "ENSMUSG00000000305  319.9336       415.3699         8.504121                \n",
       "ENSMUSG00000000628 1232.8906      1637.9839      2002.113099                \n",
       "ENSMUSG00000000889  890.0334       849.2007        15.793368                \n",
       "                   Whole_heart_E17.5_Katushka2 Whole_heart_E17.5_Katushka3\n",
       "ENSMUSG00000000078  745.819034                  786.621774                \n",
       "ENSMUSG00000000171 4406.439504                 4361.641628                \n",
       "ENSMUSG00000000214    0.000000                    3.913541                \n",
       "ENSMUSG00000000305   12.954673                    1.956771                \n",
       "ENSMUSG00000000628 1482.384730                 1498.886266                \n",
       "ENSMUSG00000000889    9.253338                    7.827082                \n",
       "                   SAN_E17.5_Venus1 SAN_E17.5_Venus2 SAN_E17.5_Venus3\n",
       "ENSMUSG00000000078 1970.8595        1657.65189       4610.754083     \n",
       "ENSMUSG00000000171 1992.2006         753.44494        234.327569     \n",
       "ENSMUSG00000000214  122.7119          43.43990          1.981628     \n",
       "ENSMUSG00000000305  281.7038         742.85875        131.282887     \n",
       "ENSMUSG00000000628  503.6522         761.47585        422.086868     \n",
       "ENSMUSG00000000889  265.6979          40.15453         76.788104     "
      ]
     },
     "metadata": {},
     "output_type": "display_data"
    }
   ],
   "source": [
    "head(combo_merge)"
   ]
  },
  {
   "cell_type": "code",
   "execution_count": 36,
   "metadata": {},
   "outputs": [
    {
     "data": {
      "text/html": [
       "<strong>pdf:</strong> 2"
      ],
      "text/latex": [
       "\\textbf{pdf:} 2"
      ],
      "text/markdown": [
       "**pdf:** 2"
      ],
      "text/plain": [
       "pdf \n",
       "  2 "
      ]
     },
     "metadata": {},
     "output_type": "display_data"
    }
   ],
   "source": [
    "cormat <- round(cor(combo_merge),2)\n",
    "upper_tri <- get_upper_tri(cormat)\n",
    "melted_cormat <- melt(upper_tri, na.rm = TRUE)\n",
    "\n",
    "# Reorder the correlation matrix\n",
    "cormat <- reorder_cormat(cormat)\n",
    "upper_tri <- get_upper_tri(cormat)\n",
    "# Melt the correlation matrix\n",
    "melted_cormat <- melt(upper_tri, na.rm = TRUE)\n",
    "# Create a ggheatmap\n",
    "ggheatmap <- ggplot(melted_cormat, aes(Var2, Var1, fill = value))+\n",
    " geom_tile(color = \"white\")+\n",
    " scale_fill_gradient2(low = \"blue\", high = \"red\", mid = \"white\", \n",
    "   midpoint = 0, limit = c(-1,1), space = \"Lab\", \n",
    "    name=\"Pearson\\nCorrelation\") +\n",
    "  theme_minimal()+ # minimal theme\n",
    " theme(axis.text.x = element_text(angle = 45, vjust = 1, \n",
    "    size = 12, hjust = 1))+\n",
    " coord_fixed()\n",
    "\n",
    "png(file='corr-heatmap-shared-de.png')\n",
    "ggheatmap + \n",
    "geom_text(aes(Var2, Var1, label = value), color = \"black\", size = 4) +\n",
    "theme(\n",
    "  axis.title.x = element_blank(),\n",
    "  axis.title.y = element_blank(),\n",
    "  panel.grid.major = element_blank(),\n",
    "  panel.border = element_blank(),\n",
    "  panel.background = element_blank(),\n",
    "  axis.ticks = element_blank(),\n",
    "  legend.justification = c(1, 0),\n",
    "  legend.position = c(0.6, 0.7),\n",
    "  legend.direction = \"horizontal\")+\n",
    "  guides(fill = guide_colorbar(barwidth = 7, barheight = 1,\n",
    "                title.position = \"top\", title.hjust = 0.5))\n",
    "dev.off()"
   ]
  },
  {
   "cell_type": "markdown",
   "metadata": {},
   "source": [
    "this is only with the DE genes that the two datasets shared. "
   ]
  },
  {
   "cell_type": "code",
   "execution_count": 42,
   "metadata": {},
   "outputs": [],
   "source": [
    "ens_dev = devdata[devdata$Gene_ENSEMBL %in% DEmerge$Dev2019,]\n",
    "ens_norm = norm[norm$ENSEMBLID %in% DEmerge$VV,]"
   ]
  },
  {
   "cell_type": "code",
   "execution_count": 43,
   "metadata": {},
   "outputs": [],
   "source": [
    "write.csv(ens_dev,\"ens_dev.csv\")\n",
    "write.csv(ens_norm, \"ens_norm.csv\")"
   ]
  },
  {
   "cell_type": "code",
   "execution_count": 48,
   "metadata": {},
   "outputs": [
    {
     "data": {
      "text/html": [
       "<table>\n",
       "<caption>A data.frame: 6 × 13</caption>\n",
       "<thead>\n",
       "\t<tr><th></th><th scope=col>ENSEMBLID</th><th scope=col>VV.Red._</th><th scope=col>VV.Red.P2</th><th scope=col>VV.Red.P4</th><th scope=col>VV.RedGreen._</th><th scope=col>VV.RedGreen.P2</th><th scope=col>VV.RedGreen.P4</th><th scope=col>Whole_heart_E17.5_Katushka1</th><th scope=col>Whole_heart_E17.5_Katushka2</th><th scope=col>Whole_heart_E17.5_Katushka3</th><th scope=col>SAN_E17.5_Venus1</th><th scope=col>SAN_E17.5_Venus2</th><th scope=col>SAN_E17.5_Venus3</th></tr>\n",
       "\t<tr><th></th><th scope=col>&lt;chr&gt;</th><th scope=col>&lt;dbl&gt;</th><th scope=col>&lt;dbl&gt;</th><th scope=col>&lt;dbl&gt;</th><th scope=col>&lt;dbl&gt;</th><th scope=col>&lt;dbl&gt;</th><th scope=col>&lt;dbl&gt;</th><th scope=col>&lt;dbl&gt;</th><th scope=col>&lt;dbl&gt;</th><th scope=col>&lt;dbl&gt;</th><th scope=col>&lt;dbl&gt;</th><th scope=col>&lt;dbl&gt;</th><th scope=col>&lt;dbl&gt;</th></tr>\n",
       "</thead>\n",
       "<tbody>\n",
       "\t<tr><th scope=row>1</th><td>ENSMUSG00000000031</td><td>5933.17482</td><td>4719.7400</td><td>3526.47297</td><td>2864.51276</td><td>1872.75787</td><td>1640.50127</td><td>5915.223713</td><td>4698.84498</td><td>6110.994529</td><td>4788.9644</td><td>19746.9013</td><td>16588.21207</td></tr>\n",
       "\t<tr><th scope=row>2</th><td>ENSMUSG00000000058</td><td> 134.92852</td><td> 115.6591</td><td> 120.49650</td><td> 322.59372</td><td> 198.33891</td><td> 231.60018</td><td>  26.727238</td><td>  18.50668</td><td>  29.351559</td><td> 142.9860</td><td>  164.2685</td><td>  194.19959</td></tr>\n",
       "\t<tr><th scope=row>3</th><td>ENSMUSG00000000078</td><td>2360.02240</td><td>4323.9525</td><td>8420.88456</td><td>1464.61532</td><td>1443.18967</td><td>1330.86190</td><td> 722.850300</td><td> 745.81903</td><td> 786.621774</td><td>1970.8595</td><td> 1657.6519</td><td> 4610.75408</td></tr>\n",
       "\t<tr><th scope=row>4</th><td>ENSMUSG00000000088</td><td>4626.82146</td><td>2555.1110</td><td>3410.31088</td><td>5616.51598</td><td>3991.69520</td><td>5864.68716</td><td>1156.560479</td><td> 953.09380</td><td>1393.220655</td><td> 418.2874</td><td>  156.2376</td><td>   29.22902</td></tr>\n",
       "\t<tr><th scope=row>5</th><td>ENSMUSG00000000093</td><td>  95.67658</td><td> 105.0482</td><td>  54.61352</td><td>  18.91753</td><td>  10.96346</td><td>  30.20872</td><td>   8.504121</td><td>  12.95467</td><td>   1.956771</td><td> 319.0509</td><td>  155.1425</td><td>  307.64782</td></tr>\n",
       "\t<tr><th scope=row>6</th><td>ENSMUSG00000000120</td><td>  28.21233</td><td> 107.1704</td><td>  91.02253</td><td>  18.91753</td><td> 118.60468</td><td>  59.57831</td><td>   8.504121</td><td>   7.40267</td><td>   3.913541</td><td> 990.2315</td><td>  739.9384</td><td>  729.73469</td></tr>\n",
       "</tbody>\n",
       "</table>\n"
      ],
      "text/latex": [
       "A data.frame: 6 × 13\n",
       "\\begin{tabular}{r|lllllllllllll}\n",
       "  & ENSEMBLID & VV.Red.\\_ & VV.Red.P2 & VV.Red.P4 & VV.RedGreen.\\_ & VV.RedGreen.P2 & VV.RedGreen.P4 & Whole\\_heart\\_E17.5\\_Katushka1 & Whole\\_heart\\_E17.5\\_Katushka2 & Whole\\_heart\\_E17.5\\_Katushka3 & SAN\\_E17.5\\_Venus1 & SAN\\_E17.5\\_Venus2 & SAN\\_E17.5\\_Venus3\\\\\n",
       "  & <chr> & <dbl> & <dbl> & <dbl> & <dbl> & <dbl> & <dbl> & <dbl> & <dbl> & <dbl> & <dbl> & <dbl> & <dbl>\\\\\n",
       "\\hline\n",
       "\t1 & ENSMUSG00000000031 & 5933.17482 & 4719.7400 & 3526.47297 & 2864.51276 & 1872.75787 & 1640.50127 & 5915.223713 & 4698.84498 & 6110.994529 & 4788.9644 & 19746.9013 & 16588.21207\\\\\n",
       "\t2 & ENSMUSG00000000058 &  134.92852 &  115.6591 &  120.49650 &  322.59372 &  198.33891 &  231.60018 &   26.727238 &   18.50668 &   29.351559 &  142.9860 &   164.2685 &   194.19959\\\\\n",
       "\t3 & ENSMUSG00000000078 & 2360.02240 & 4323.9525 & 8420.88456 & 1464.61532 & 1443.18967 & 1330.86190 &  722.850300 &  745.81903 &  786.621774 & 1970.8595 &  1657.6519 &  4610.75408\\\\\n",
       "\t4 & ENSMUSG00000000088 & 4626.82146 & 2555.1110 & 3410.31088 & 5616.51598 & 3991.69520 & 5864.68716 & 1156.560479 &  953.09380 & 1393.220655 &  418.2874 &   156.2376 &    29.22902\\\\\n",
       "\t5 & ENSMUSG00000000093 &   95.67658 &  105.0482 &   54.61352 &   18.91753 &   10.96346 &   30.20872 &    8.504121 &   12.95467 &    1.956771 &  319.0509 &   155.1425 &   307.64782\\\\\n",
       "\t6 & ENSMUSG00000000120 &   28.21233 &  107.1704 &   91.02253 &   18.91753 &  118.60468 &   59.57831 &    8.504121 &    7.40267 &    3.913541 &  990.2315 &   739.9384 &   729.73469\\\\\n",
       "\\end{tabular}\n"
      ],
      "text/markdown": [
       "\n",
       "A data.frame: 6 × 13\n",
       "\n",
       "| <!--/--> | ENSEMBLID &lt;chr&gt; | VV.Red._ &lt;dbl&gt; | VV.Red.P2 &lt;dbl&gt; | VV.Red.P4 &lt;dbl&gt; | VV.RedGreen._ &lt;dbl&gt; | VV.RedGreen.P2 &lt;dbl&gt; | VV.RedGreen.P4 &lt;dbl&gt; | Whole_heart_E17.5_Katushka1 &lt;dbl&gt; | Whole_heart_E17.5_Katushka2 &lt;dbl&gt; | Whole_heart_E17.5_Katushka3 &lt;dbl&gt; | SAN_E17.5_Venus1 &lt;dbl&gt; | SAN_E17.5_Venus2 &lt;dbl&gt; | SAN_E17.5_Venus3 &lt;dbl&gt; |\n",
       "|---|---|---|---|---|---|---|---|---|---|---|---|---|---|\n",
       "| 1 | ENSMUSG00000000031 | 5933.17482 | 4719.7400 | 3526.47297 | 2864.51276 | 1872.75787 | 1640.50127 | 5915.223713 | 4698.84498 | 6110.994529 | 4788.9644 | 19746.9013 | 16588.21207 |\n",
       "| 2 | ENSMUSG00000000058 |  134.92852 |  115.6591 |  120.49650 |  322.59372 |  198.33891 |  231.60018 |   26.727238 |   18.50668 |   29.351559 |  142.9860 |   164.2685 |   194.19959 |\n",
       "| 3 | ENSMUSG00000000078 | 2360.02240 | 4323.9525 | 8420.88456 | 1464.61532 | 1443.18967 | 1330.86190 |  722.850300 |  745.81903 |  786.621774 | 1970.8595 |  1657.6519 |  4610.75408 |\n",
       "| 4 | ENSMUSG00000000088 | 4626.82146 | 2555.1110 | 3410.31088 | 5616.51598 | 3991.69520 | 5864.68716 | 1156.560479 |  953.09380 | 1393.220655 |  418.2874 |   156.2376 |    29.22902 |\n",
       "| 5 | ENSMUSG00000000093 |   95.67658 |  105.0482 |   54.61352 |   18.91753 |   10.96346 |   30.20872 |    8.504121 |   12.95467 |    1.956771 |  319.0509 |   155.1425 |   307.64782 |\n",
       "| 6 | ENSMUSG00000000120 |   28.21233 |  107.1704 |   91.02253 |   18.91753 |  118.60468 |   59.57831 |    8.504121 |    7.40267 |    3.913541 |  990.2315 |   739.9384 |   729.73469 |\n",
       "\n"
      ],
      "text/plain": [
       "  ENSEMBLID          VV.Red._   VV.Red.P2 VV.Red.P4  VV.RedGreen._\n",
       "1 ENSMUSG00000000031 5933.17482 4719.7400 3526.47297 2864.51276   \n",
       "2 ENSMUSG00000000058  134.92852  115.6591  120.49650  322.59372   \n",
       "3 ENSMUSG00000000078 2360.02240 4323.9525 8420.88456 1464.61532   \n",
       "4 ENSMUSG00000000088 4626.82146 2555.1110 3410.31088 5616.51598   \n",
       "5 ENSMUSG00000000093   95.67658  105.0482   54.61352   18.91753   \n",
       "6 ENSMUSG00000000120   28.21233  107.1704   91.02253   18.91753   \n",
       "  VV.RedGreen.P2 VV.RedGreen.P4 Whole_heart_E17.5_Katushka1\n",
       "1 1872.75787     1640.50127     5915.223713                \n",
       "2  198.33891      231.60018       26.727238                \n",
       "3 1443.18967     1330.86190      722.850300                \n",
       "4 3991.69520     5864.68716     1156.560479                \n",
       "5   10.96346       30.20872        8.504121                \n",
       "6  118.60468       59.57831        8.504121                \n",
       "  Whole_heart_E17.5_Katushka2 Whole_heart_E17.5_Katushka3 SAN_E17.5_Venus1\n",
       "1 4698.84498                  6110.994529                 4788.9644       \n",
       "2   18.50668                    29.351559                  142.9860       \n",
       "3  745.81903                   786.621774                 1970.8595       \n",
       "4  953.09380                  1393.220655                  418.2874       \n",
       "5   12.95467                     1.956771                  319.0509       \n",
       "6    7.40267                     3.913541                  990.2315       \n",
       "  SAN_E17.5_Venus2 SAN_E17.5_Venus3\n",
       "1 19746.9013       16588.21207     \n",
       "2   164.2685         194.19959     \n",
       "3  1657.6519        4610.75408     \n",
       "4   156.2376          29.22902     \n",
       "5   155.1425         307.64782     \n",
       "6   739.9384         729.73469     "
      ]
     },
     "metadata": {},
     "output_type": "display_data"
    }
   ],
   "source": [
    "combo_de = read.table(\"total_DEmerge.txt\", header = TRUE)\n",
    "head(combo_de)"
   ]
  },
  {
   "cell_type": "code",
   "execution_count": 49,
   "metadata": {},
   "outputs": [],
   "source": [
    "rownames(combo_de) = combo_de$ENSEMBLID\n",
    "combo_de = combo_de[,-c(1)]\n"
   ]
  },
  {
   "cell_type": "code",
   "execution_count": 50,
   "metadata": {},
   "outputs": [
    {
     "data": {
      "text/html": [
       "<table>\n",
       "<caption>A data.frame: 6 × 12</caption>\n",
       "<thead>\n",
       "\t<tr><th></th><th scope=col>VV.Red._</th><th scope=col>VV.Red.P2</th><th scope=col>VV.Red.P4</th><th scope=col>VV.RedGreen._</th><th scope=col>VV.RedGreen.P2</th><th scope=col>VV.RedGreen.P4</th><th scope=col>Whole_heart_E17.5_Katushka1</th><th scope=col>Whole_heart_E17.5_Katushka2</th><th scope=col>Whole_heart_E17.5_Katushka3</th><th scope=col>SAN_E17.5_Venus1</th><th scope=col>SAN_E17.5_Venus2</th><th scope=col>SAN_E17.5_Venus3</th></tr>\n",
       "\t<tr><th></th><th scope=col>&lt;dbl&gt;</th><th scope=col>&lt;dbl&gt;</th><th scope=col>&lt;dbl&gt;</th><th scope=col>&lt;dbl&gt;</th><th scope=col>&lt;dbl&gt;</th><th scope=col>&lt;dbl&gt;</th><th scope=col>&lt;dbl&gt;</th><th scope=col>&lt;dbl&gt;</th><th scope=col>&lt;dbl&gt;</th><th scope=col>&lt;dbl&gt;</th><th scope=col>&lt;dbl&gt;</th><th scope=col>&lt;dbl&gt;</th></tr>\n",
       "</thead>\n",
       "<tbody>\n",
       "\t<tr><th scope=row>ENSMUSG00000000031</th><td>5933.17482</td><td>4719.7400</td><td>3526.47297</td><td>2864.51276</td><td>1872.75787</td><td>1640.50127</td><td>5915.223713</td><td>4698.84498</td><td>6110.994529</td><td>4788.9644</td><td>19746.9013</td><td>16588.21207</td></tr>\n",
       "\t<tr><th scope=row>ENSMUSG00000000058</th><td> 134.92852</td><td> 115.6591</td><td> 120.49650</td><td> 322.59372</td><td> 198.33891</td><td> 231.60018</td><td>  26.727238</td><td>  18.50668</td><td>  29.351559</td><td> 142.9860</td><td>  164.2685</td><td>  194.19959</td></tr>\n",
       "\t<tr><th scope=row>ENSMUSG00000000078</th><td>2360.02240</td><td>4323.9525</td><td>8420.88456</td><td>1464.61532</td><td>1443.18967</td><td>1330.86190</td><td> 722.850300</td><td> 745.81903</td><td> 786.621774</td><td>1970.8595</td><td> 1657.6519</td><td> 4610.75408</td></tr>\n",
       "\t<tr><th scope=row>ENSMUSG00000000088</th><td>4626.82146</td><td>2555.1110</td><td>3410.31088</td><td>5616.51598</td><td>3991.69520</td><td>5864.68716</td><td>1156.560479</td><td> 953.09380</td><td>1393.220655</td><td> 418.2874</td><td>  156.2376</td><td>   29.22902</td></tr>\n",
       "\t<tr><th scope=row>ENSMUSG00000000093</th><td>  95.67658</td><td> 105.0482</td><td>  54.61352</td><td>  18.91753</td><td>  10.96346</td><td>  30.20872</td><td>   8.504121</td><td>  12.95467</td><td>   1.956771</td><td> 319.0509</td><td>  155.1425</td><td>  307.64782</td></tr>\n",
       "\t<tr><th scope=row>ENSMUSG00000000120</th><td>  28.21233</td><td> 107.1704</td><td>  91.02253</td><td>  18.91753</td><td> 118.60468</td><td>  59.57831</td><td>   8.504121</td><td>   7.40267</td><td>   3.913541</td><td> 990.2315</td><td>  739.9384</td><td>  729.73469</td></tr>\n",
       "</tbody>\n",
       "</table>\n"
      ],
      "text/latex": [
       "A data.frame: 6 × 12\n",
       "\\begin{tabular}{r|llllllllllll}\n",
       "  & VV.Red.\\_ & VV.Red.P2 & VV.Red.P4 & VV.RedGreen.\\_ & VV.RedGreen.P2 & VV.RedGreen.P4 & Whole\\_heart\\_E17.5\\_Katushka1 & Whole\\_heart\\_E17.5\\_Katushka2 & Whole\\_heart\\_E17.5\\_Katushka3 & SAN\\_E17.5\\_Venus1 & SAN\\_E17.5\\_Venus2 & SAN\\_E17.5\\_Venus3\\\\\n",
       "  & <dbl> & <dbl> & <dbl> & <dbl> & <dbl> & <dbl> & <dbl> & <dbl> & <dbl> & <dbl> & <dbl> & <dbl>\\\\\n",
       "\\hline\n",
       "\tENSMUSG00000000031 & 5933.17482 & 4719.7400 & 3526.47297 & 2864.51276 & 1872.75787 & 1640.50127 & 5915.223713 & 4698.84498 & 6110.994529 & 4788.9644 & 19746.9013 & 16588.21207\\\\\n",
       "\tENSMUSG00000000058 &  134.92852 &  115.6591 &  120.49650 &  322.59372 &  198.33891 &  231.60018 &   26.727238 &   18.50668 &   29.351559 &  142.9860 &   164.2685 &   194.19959\\\\\n",
       "\tENSMUSG00000000078 & 2360.02240 & 4323.9525 & 8420.88456 & 1464.61532 & 1443.18967 & 1330.86190 &  722.850300 &  745.81903 &  786.621774 & 1970.8595 &  1657.6519 &  4610.75408\\\\\n",
       "\tENSMUSG00000000088 & 4626.82146 & 2555.1110 & 3410.31088 & 5616.51598 & 3991.69520 & 5864.68716 & 1156.560479 &  953.09380 & 1393.220655 &  418.2874 &   156.2376 &    29.22902\\\\\n",
       "\tENSMUSG00000000093 &   95.67658 &  105.0482 &   54.61352 &   18.91753 &   10.96346 &   30.20872 &    8.504121 &   12.95467 &    1.956771 &  319.0509 &   155.1425 &   307.64782\\\\\n",
       "\tENSMUSG00000000120 &   28.21233 &  107.1704 &   91.02253 &   18.91753 &  118.60468 &   59.57831 &    8.504121 &    7.40267 &    3.913541 &  990.2315 &   739.9384 &   729.73469\\\\\n",
       "\\end{tabular}\n"
      ],
      "text/markdown": [
       "\n",
       "A data.frame: 6 × 12\n",
       "\n",
       "| <!--/--> | VV.Red._ &lt;dbl&gt; | VV.Red.P2 &lt;dbl&gt; | VV.Red.P4 &lt;dbl&gt; | VV.RedGreen._ &lt;dbl&gt; | VV.RedGreen.P2 &lt;dbl&gt; | VV.RedGreen.P4 &lt;dbl&gt; | Whole_heart_E17.5_Katushka1 &lt;dbl&gt; | Whole_heart_E17.5_Katushka2 &lt;dbl&gt; | Whole_heart_E17.5_Katushka3 &lt;dbl&gt; | SAN_E17.5_Venus1 &lt;dbl&gt; | SAN_E17.5_Venus2 &lt;dbl&gt; | SAN_E17.5_Venus3 &lt;dbl&gt; |\n",
       "|---|---|---|---|---|---|---|---|---|---|---|---|---|\n",
       "| ENSMUSG00000000031 | 5933.17482 | 4719.7400 | 3526.47297 | 2864.51276 | 1872.75787 | 1640.50127 | 5915.223713 | 4698.84498 | 6110.994529 | 4788.9644 | 19746.9013 | 16588.21207 |\n",
       "| ENSMUSG00000000058 |  134.92852 |  115.6591 |  120.49650 |  322.59372 |  198.33891 |  231.60018 |   26.727238 |   18.50668 |   29.351559 |  142.9860 |   164.2685 |   194.19959 |\n",
       "| ENSMUSG00000000078 | 2360.02240 | 4323.9525 | 8420.88456 | 1464.61532 | 1443.18967 | 1330.86190 |  722.850300 |  745.81903 |  786.621774 | 1970.8595 |  1657.6519 |  4610.75408 |\n",
       "| ENSMUSG00000000088 | 4626.82146 | 2555.1110 | 3410.31088 | 5616.51598 | 3991.69520 | 5864.68716 | 1156.560479 |  953.09380 | 1393.220655 |  418.2874 |   156.2376 |    29.22902 |\n",
       "| ENSMUSG00000000093 |   95.67658 |  105.0482 |   54.61352 |   18.91753 |   10.96346 |   30.20872 |    8.504121 |   12.95467 |    1.956771 |  319.0509 |   155.1425 |   307.64782 |\n",
       "| ENSMUSG00000000120 |   28.21233 |  107.1704 |   91.02253 |   18.91753 |  118.60468 |   59.57831 |    8.504121 |    7.40267 |    3.913541 |  990.2315 |   739.9384 |   729.73469 |\n",
       "\n"
      ],
      "text/plain": [
       "                   VV.Red._   VV.Red.P2 VV.Red.P4  VV.RedGreen._ VV.RedGreen.P2\n",
       "ENSMUSG00000000031 5933.17482 4719.7400 3526.47297 2864.51276    1872.75787    \n",
       "ENSMUSG00000000058  134.92852  115.6591  120.49650  322.59372     198.33891    \n",
       "ENSMUSG00000000078 2360.02240 4323.9525 8420.88456 1464.61532    1443.18967    \n",
       "ENSMUSG00000000088 4626.82146 2555.1110 3410.31088 5616.51598    3991.69520    \n",
       "ENSMUSG00000000093   95.67658  105.0482   54.61352   18.91753      10.96346    \n",
       "ENSMUSG00000000120   28.21233  107.1704   91.02253   18.91753     118.60468    \n",
       "                   VV.RedGreen.P4 Whole_heart_E17.5_Katushka1\n",
       "ENSMUSG00000000031 1640.50127     5915.223713                \n",
       "ENSMUSG00000000058  231.60018       26.727238                \n",
       "ENSMUSG00000000078 1330.86190      722.850300                \n",
       "ENSMUSG00000000088 5864.68716     1156.560479                \n",
       "ENSMUSG00000000093   30.20872        8.504121                \n",
       "ENSMUSG00000000120   59.57831        8.504121                \n",
       "                   Whole_heart_E17.5_Katushka2 Whole_heart_E17.5_Katushka3\n",
       "ENSMUSG00000000031 4698.84498                  6110.994529                \n",
       "ENSMUSG00000000058   18.50668                    29.351559                \n",
       "ENSMUSG00000000078  745.81903                   786.621774                \n",
       "ENSMUSG00000000088  953.09380                  1393.220655                \n",
       "ENSMUSG00000000093   12.95467                     1.956771                \n",
       "ENSMUSG00000000120    7.40267                     3.913541                \n",
       "                   SAN_E17.5_Venus1 SAN_E17.5_Venus2 SAN_E17.5_Venus3\n",
       "ENSMUSG00000000031 4788.9644        19746.9013       16588.21207     \n",
       "ENSMUSG00000000058  142.9860          164.2685         194.19959     \n",
       "ENSMUSG00000000078 1970.8595         1657.6519        4610.75408     \n",
       "ENSMUSG00000000088  418.2874          156.2376          29.22902     \n",
       "ENSMUSG00000000093  319.0509          155.1425         307.64782     \n",
       "ENSMUSG00000000120  990.2315          739.9384         729.73469     "
      ]
     },
     "metadata": {},
     "output_type": "display_data"
    }
   ],
   "source": [
    "head(combo_de)"
   ]
  },
  {
   "cell_type": "code",
   "execution_count": 51,
   "metadata": {},
   "outputs": [
    {
     "data": {
      "text/html": [
       "<strong>pdf:</strong> 2"
      ],
      "text/latex": [
       "\\textbf{pdf:} 2"
      ],
      "text/markdown": [
       "**pdf:** 2"
      ],
      "text/plain": [
       "pdf \n",
       "  2 "
      ]
     },
     "metadata": {},
     "output_type": "display_data"
    }
   ],
   "source": [
    "cormat <- round(cor(combo_de),2)\n",
    "upper_tri <- get_upper_tri(cormat)\n",
    "melted_cormat <- melt(upper_tri, na.rm = TRUE)\n",
    "\n",
    "# Reorder the correlation matrix\n",
    "cormat <- reorder_cormat(cormat)\n",
    "upper_tri <- get_upper_tri(cormat)\n",
    "# Melt the correlation matrix\n",
    "melted_cormat <- melt(upper_tri, na.rm = TRUE)\n",
    "# Create a ggheatmap\n",
    "ggheatmap <- ggplot(melted_cormat, aes(Var2, Var1, fill = value))+\n",
    " geom_tile(color = \"white\")+\n",
    " scale_fill_gradient2(low = \"blue\", high = \"red\", mid = \"white\", \n",
    "   midpoint = 0, limit = c(-1,1), space = \"Lab\", \n",
    "    name=\"Pearson\\nCorrelation\") +\n",
    "  theme_minimal()+ # minimal theme\n",
    " theme(axis.text.x = element_text(angle = 45, vjust = 1, \n",
    "    size = 12, hjust = 1))+\n",
    " coord_fixed()\n",
    "\n",
    "png(file='corr-heatmap-all-de.png')\n",
    "ggheatmap + \n",
    "geom_text(aes(Var2, Var1, label = value), color = \"black\", size = 4) +\n",
    "theme(\n",
    "  axis.title.x = element_blank(),\n",
    "  axis.title.y = element_blank(),\n",
    "  panel.grid.major = element_blank(),\n",
    "  panel.border = element_blank(),\n",
    "  panel.background = element_blank(),\n",
    "  axis.ticks = element_blank(),\n",
    "  legend.justification = c(1, 0),\n",
    "  legend.position = c(0.6, 0.7),\n",
    "  legend.direction = \"horizontal\")+\n",
    "  guides(fill = guide_colorbar(barwidth = 7, barheight = 1,\n",
    "                title.position = \"top\", title.hjust = 0.5))\n",
    "dev.off()"
   ]
  },
  {
   "cell_type": "markdown",
   "metadata": {},
   "source": [
    "this is with all of the DE genes from both datasets. There were some genes in the Development data that didn't show up in any of our normalized counts, so I just assumed our data had zero counts for those genes; same goes for the genes from our DE list that didn't show up in the development data. "
   ]
  }
 ],
 "metadata": {
  "kernelspec": {
   "display_name": "R",
   "language": "R",
   "name": "ir"
  },
  "language_info": {
   "codemirror_mode": "r",
   "file_extension": ".r",
   "mimetype": "text/x-r-source",
   "name": "R",
   "pygments_lexer": "r",
   "version": "4.0.1"
  }
 },
 "nbformat": 4,
 "nbformat_minor": 4
}
